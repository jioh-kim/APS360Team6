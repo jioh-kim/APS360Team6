{
  "cells": [
    {
      "cell_type": "markdown",
      "metadata": {
        "id": "THz8nEmmRcAf"
      },
      "source": [
        "Install requirements"
      ]
    },
    {
      "cell_type": "code",
      "execution_count": null,
      "metadata": {
        "id": "ku_YwLwCqS6w",
        "colab": {
          "base_uri": "https://localhost:8080/"
        },
        "outputId": "552599a0-11b8-4b61-9684-cb351c8b1f78"
      },
      "outputs": [
        {
          "output_type": "stream",
          "name": "stdout",
          "text": [
            "Requirement already satisfied: tensorflow in /usr/local/lib/python3.10/dist-packages (2.14.0)\n",
            "Requirement already satisfied: tensorflow-datasets in /usr/local/lib/python3.10/dist-packages (4.9.3)\n",
            "Requirement already satisfied: librosa in /usr/local/lib/python3.10/dist-packages (0.10.1)\n",
            "Requirement already satisfied: absl-py>=1.0.0 in /usr/local/lib/python3.10/dist-packages (from tensorflow) (1.4.0)\n",
            "Requirement already satisfied: astunparse>=1.6.0 in /usr/local/lib/python3.10/dist-packages (from tensorflow) (1.6.3)\n",
            "Requirement already satisfied: flatbuffers>=23.5.26 in /usr/local/lib/python3.10/dist-packages (from tensorflow) (23.5.26)\n",
            "Requirement already satisfied: gast!=0.5.0,!=0.5.1,!=0.5.2,>=0.2.1 in /usr/local/lib/python3.10/dist-packages (from tensorflow) (0.5.4)\n",
            "Requirement already satisfied: google-pasta>=0.1.1 in /usr/local/lib/python3.10/dist-packages (from tensorflow) (0.2.0)\n",
            "Requirement already satisfied: h5py>=2.9.0 in /usr/local/lib/python3.10/dist-packages (from tensorflow) (3.9.0)\n",
            "Requirement already satisfied: libclang>=13.0.0 in /usr/local/lib/python3.10/dist-packages (from tensorflow) (16.0.6)\n",
            "Requirement already satisfied: ml-dtypes==0.2.0 in /usr/local/lib/python3.10/dist-packages (from tensorflow) (0.2.0)\n",
            "Requirement already satisfied: numpy>=1.23.5 in /usr/local/lib/python3.10/dist-packages (from tensorflow) (1.23.5)\n",
            "Requirement already satisfied: opt-einsum>=2.3.2 in /usr/local/lib/python3.10/dist-packages (from tensorflow) (3.3.0)\n",
            "Requirement already satisfied: packaging in /usr/local/lib/python3.10/dist-packages (from tensorflow) (23.2)\n",
            "Requirement already satisfied: protobuf!=4.21.0,!=4.21.1,!=4.21.2,!=4.21.3,!=4.21.4,!=4.21.5,<5.0.0dev,>=3.20.3 in /usr/local/lib/python3.10/dist-packages (from tensorflow) (3.20.3)\n",
            "Requirement already satisfied: setuptools in /usr/local/lib/python3.10/dist-packages (from tensorflow) (67.7.2)\n",
            "Requirement already satisfied: six>=1.12.0 in /usr/local/lib/python3.10/dist-packages (from tensorflow) (1.16.0)\n",
            "Requirement already satisfied: termcolor>=1.1.0 in /usr/local/lib/python3.10/dist-packages (from tensorflow) (2.3.0)\n",
            "Requirement already satisfied: typing-extensions>=3.6.6 in /usr/local/lib/python3.10/dist-packages (from tensorflow) (4.5.0)\n",
            "Requirement already satisfied: wrapt<1.15,>=1.11.0 in /usr/local/lib/python3.10/dist-packages (from tensorflow) (1.14.1)\n",
            "Requirement already satisfied: tensorflow-io-gcs-filesystem>=0.23.1 in /usr/local/lib/python3.10/dist-packages (from tensorflow) (0.34.0)\n",
            "Requirement already satisfied: grpcio<2.0,>=1.24.3 in /usr/local/lib/python3.10/dist-packages (from tensorflow) (1.59.2)\n",
            "Requirement already satisfied: tensorboard<2.15,>=2.14 in /usr/local/lib/python3.10/dist-packages (from tensorflow) (2.14.1)\n",
            "Requirement already satisfied: tensorflow-estimator<2.15,>=2.14.0 in /usr/local/lib/python3.10/dist-packages (from tensorflow) (2.14.0)\n",
            "Requirement already satisfied: keras<2.15,>=2.14.0 in /usr/local/lib/python3.10/dist-packages (from tensorflow) (2.14.0)\n",
            "Requirement already satisfied: array-record in /usr/local/lib/python3.10/dist-packages (from tensorflow-datasets) (0.5.0)\n",
            "Requirement already satisfied: click in /usr/local/lib/python3.10/dist-packages (from tensorflow-datasets) (8.1.7)\n",
            "Requirement already satisfied: dm-tree in /usr/local/lib/python3.10/dist-packages (from tensorflow-datasets) (0.1.8)\n",
            "Requirement already satisfied: etils[enp,epath,etree]>=0.9.0 in /usr/local/lib/python3.10/dist-packages (from tensorflow-datasets) (1.5.2)\n",
            "Requirement already satisfied: promise in /usr/local/lib/python3.10/dist-packages (from tensorflow-datasets) (2.3)\n",
            "Requirement already satisfied: psutil in /usr/local/lib/python3.10/dist-packages (from tensorflow-datasets) (5.9.5)\n",
            "Requirement already satisfied: requests>=2.19.0 in /usr/local/lib/python3.10/dist-packages (from tensorflow-datasets) (2.31.0)\n",
            "Requirement already satisfied: tensorflow-metadata in /usr/local/lib/python3.10/dist-packages (from tensorflow-datasets) (1.14.0)\n",
            "Requirement already satisfied: toml in /usr/local/lib/python3.10/dist-packages (from tensorflow-datasets) (0.10.2)\n",
            "Requirement already satisfied: tqdm in /usr/local/lib/python3.10/dist-packages (from tensorflow-datasets) (4.66.1)\n",
            "Requirement already satisfied: audioread>=2.1.9 in /usr/local/lib/python3.10/dist-packages (from librosa) (3.0.1)\n",
            "Requirement already satisfied: scipy>=1.2.0 in /usr/local/lib/python3.10/dist-packages (from librosa) (1.11.3)\n",
            "Requirement already satisfied: scikit-learn>=0.20.0 in /usr/local/lib/python3.10/dist-packages (from librosa) (1.2.2)\n",
            "Requirement already satisfied: joblib>=0.14 in /usr/local/lib/python3.10/dist-packages (from librosa) (1.3.2)\n",
            "Requirement already satisfied: decorator>=4.3.0 in /usr/local/lib/python3.10/dist-packages (from librosa) (4.4.2)\n",
            "Requirement already satisfied: numba>=0.51.0 in /usr/local/lib/python3.10/dist-packages (from librosa) (0.58.1)\n",
            "Requirement already satisfied: soundfile>=0.12.1 in /usr/local/lib/python3.10/dist-packages (from librosa) (0.12.1)\n",
            "Requirement already satisfied: pooch>=1.0 in /usr/local/lib/python3.10/dist-packages (from librosa) (1.8.0)\n",
            "Requirement already satisfied: soxr>=0.3.2 in /usr/local/lib/python3.10/dist-packages (from librosa) (0.3.7)\n",
            "Requirement already satisfied: lazy-loader>=0.1 in /usr/local/lib/python3.10/dist-packages (from librosa) (0.3)\n",
            "Requirement already satisfied: msgpack>=1.0 in /usr/local/lib/python3.10/dist-packages (from librosa) (1.0.7)\n",
            "Requirement already satisfied: wheel<1.0,>=0.23.0 in /usr/local/lib/python3.10/dist-packages (from astunparse>=1.6.0->tensorflow) (0.41.3)\n",
            "Requirement already satisfied: fsspec in /usr/local/lib/python3.10/dist-packages (from etils[enp,epath,etree]>=0.9.0->tensorflow-datasets) (2023.6.0)\n",
            "Requirement already satisfied: importlib_resources in /usr/local/lib/python3.10/dist-packages (from etils[enp,epath,etree]>=0.9.0->tensorflow-datasets) (6.1.1)\n",
            "Requirement already satisfied: zipp in /usr/local/lib/python3.10/dist-packages (from etils[enp,epath,etree]>=0.9.0->tensorflow-datasets) (3.17.0)\n",
            "Requirement already satisfied: llvmlite<0.42,>=0.41.0dev0 in /usr/local/lib/python3.10/dist-packages (from numba>=0.51.0->librosa) (0.41.1)\n",
            "Requirement already satisfied: platformdirs>=2.5.0 in /usr/local/lib/python3.10/dist-packages (from pooch>=1.0->librosa) (4.0.0)\n",
            "Requirement already satisfied: charset-normalizer<4,>=2 in /usr/local/lib/python3.10/dist-packages (from requests>=2.19.0->tensorflow-datasets) (3.3.2)\n",
            "Requirement already satisfied: idna<4,>=2.5 in /usr/local/lib/python3.10/dist-packages (from requests>=2.19.0->tensorflow-datasets) (3.4)\n",
            "Requirement already satisfied: urllib3<3,>=1.21.1 in /usr/local/lib/python3.10/dist-packages (from requests>=2.19.0->tensorflow-datasets) (2.0.7)\n",
            "Requirement already satisfied: certifi>=2017.4.17 in /usr/local/lib/python3.10/dist-packages (from requests>=2.19.0->tensorflow-datasets) (2023.7.22)\n",
            "Requirement already satisfied: threadpoolctl>=2.0.0 in /usr/local/lib/python3.10/dist-packages (from scikit-learn>=0.20.0->librosa) (3.2.0)\n",
            "Requirement already satisfied: cffi>=1.0 in /usr/local/lib/python3.10/dist-packages (from soundfile>=0.12.1->librosa) (1.16.0)\n",
            "Requirement already satisfied: google-auth<3,>=1.6.3 in /usr/local/lib/python3.10/dist-packages (from tensorboard<2.15,>=2.14->tensorflow) (2.17.3)\n",
            "Requirement already satisfied: google-auth-oauthlib<1.1,>=0.5 in /usr/local/lib/python3.10/dist-packages (from tensorboard<2.15,>=2.14->tensorflow) (1.0.0)\n",
            "Requirement already satisfied: markdown>=2.6.8 in /usr/local/lib/python3.10/dist-packages (from tensorboard<2.15,>=2.14->tensorflow) (3.5.1)\n",
            "Requirement already satisfied: tensorboard-data-server<0.8.0,>=0.7.0 in /usr/local/lib/python3.10/dist-packages (from tensorboard<2.15,>=2.14->tensorflow) (0.7.2)\n",
            "Requirement already satisfied: werkzeug>=1.0.1 in /usr/local/lib/python3.10/dist-packages (from tensorboard<2.15,>=2.14->tensorflow) (3.0.1)\n",
            "Requirement already satisfied: googleapis-common-protos<2,>=1.52.0 in /usr/local/lib/python3.10/dist-packages (from tensorflow-metadata->tensorflow-datasets) (1.61.0)\n",
            "Requirement already satisfied: pycparser in /usr/local/lib/python3.10/dist-packages (from cffi>=1.0->soundfile>=0.12.1->librosa) (2.21)\n",
            "Requirement already satisfied: cachetools<6.0,>=2.0.0 in /usr/local/lib/python3.10/dist-packages (from google-auth<3,>=1.6.3->tensorboard<2.15,>=2.14->tensorflow) (5.3.2)\n",
            "Requirement already satisfied: pyasn1-modules>=0.2.1 in /usr/local/lib/python3.10/dist-packages (from google-auth<3,>=1.6.3->tensorboard<2.15,>=2.14->tensorflow) (0.3.0)\n",
            "Requirement already satisfied: rsa<5,>=3.1.4 in /usr/local/lib/python3.10/dist-packages (from google-auth<3,>=1.6.3->tensorboard<2.15,>=2.14->tensorflow) (4.9)\n",
            "Requirement already satisfied: requests-oauthlib>=0.7.0 in /usr/local/lib/python3.10/dist-packages (from google-auth-oauthlib<1.1,>=0.5->tensorboard<2.15,>=2.14->tensorflow) (1.3.1)\n",
            "Requirement already satisfied: MarkupSafe>=2.1.1 in /usr/local/lib/python3.10/dist-packages (from werkzeug>=1.0.1->tensorboard<2.15,>=2.14->tensorflow) (2.1.3)\n",
            "Requirement already satisfied: pyasn1<0.6.0,>=0.4.6 in /usr/local/lib/python3.10/dist-packages (from pyasn1-modules>=0.2.1->google-auth<3,>=1.6.3->tensorboard<2.15,>=2.14->tensorflow) (0.5.0)\n",
            "Requirement already satisfied: oauthlib>=3.0.0 in /usr/local/lib/python3.10/dist-packages (from requests-oauthlib>=0.7.0->google-auth-oauthlib<1.1,>=0.5->tensorboard<2.15,>=2.14->tensorflow) (3.2.2)\n"
          ]
        }
      ],
      "source": [
        "!pip install tensorflow tensorflow-datasets librosa"
      ]
    },
    {
      "cell_type": "markdown",
      "metadata": {
        "id": "xfEwnLErRel8"
      },
      "source": [
        "Import libraries"
      ]
    },
    {
      "cell_type": "code",
      "source": [
        "import tensorflow as tf\n",
        "from tensorflow import keras\n",
        "import tensorflow_datasets as tfds\n",
        "import librosa\n",
        "import numpy as np"
      ],
      "metadata": {
        "id": "WGHxbh4YE-ot"
      },
      "execution_count": null,
      "outputs": []
    },
    {
      "cell_type": "markdown",
      "metadata": {
        "id": "JZAVKWS5R1_J"
      },
      "source": [
        "Only grab the dataset where instument == keyboard"
      ]
    },
    {
      "cell_type": "code",
      "source": [
        "# Constants\n",
        "KEYBOARD_FAMILY_LABEL = 4 # According to NSynth dataset family label\n",
        "SAMPLE_RATE = 16000\n",
        "TRIM_LENGTH = 3 * SAMPLE_RATE  # Trim to the first 3 seconds\n",
        "\n",
        "def process_data(example):\n",
        "    audio = example['audio']\n",
        "    instrument_family = example['instrument']['family']\n",
        "    pitch = example['pitch']\n",
        "\n",
        "    is_keyboard = tf.equal(instrument_family, KEYBOARD_FAMILY_LABEL)\n",
        "\n",
        "    def process_keyboard_sample(audio, pitch):\n",
        "        audio = audio[:TRIM_LENGTH]\n",
        "        if pitch < 21:\n",
        "            # Instead of returning None, return a marker (e.g., a zero-length tensor)\n",
        "            return tf.zeros((0,)), tf.constant(-1, dtype=tf.int64)\n",
        "        else:\n",
        "            pitch = pitch - 21\n",
        "            return audio, pitch\n",
        "\n",
        "    return tf.cond(is_keyboard, lambda: process_keyboard_sample(audio, pitch), lambda: (audio, pitch))\n",
        "\n",
        "def filter_keyboard_samples(example):\n",
        "    return tf.equal(example['instrument']['family'], KEYBOARD_FAMILY_LABEL)\n",
        "\n",
        "def filter_invalid_samples(audio, pitch):\n",
        "    # Check if the sample is valid (not marked for removal)\n",
        "    return tf.size(audio) > 0 and tf.not_equal(pitch, -1)\n",
        "\n",
        "def get_data_loader(data_split, batch_size=64, num_batches=None):\n",
        "    ds = tfds.load('nsynth', split=data_split, as_supervised=False)\n",
        "\n",
        "    ds = ds.filter(filter_keyboard_samples)\n",
        "    ds = ds.map(process_data, num_parallel_calls=tf.data.AUTOTUNE)\n",
        "    ds = ds.filter(filter_invalid_samples)\n",
        "    ds = ds.batch(batch_size)\n",
        "    if num_batches:\n",
        "        ds = ds.take(num_batches)\n",
        "    ds = ds.prefetch(tf.data.experimental.AUTOTUNE)\n",
        "\n",
        "    return ds"
      ],
      "metadata": {
        "id": "RKOifdhZeOT-"
      },
      "execution_count": null,
      "outputs": []
    },
    {
      "cell_type": "code",
      "source": [
        "# Input to model\n",
        "batch_size = 32\n",
        "train_loader = get_data_loader('train', batch_size, num_batches=80)\n",
        "val_loader = get_data_loader('valid', batch_size, num_batches=10)\n",
        "test_loader = get_data_loader('test', batch_size, num_batches=10)\n",
        "classes = list(range(88))\n",
        "\n",
        "for audio, pitch in train_loader.take(5):\n",
        "    print(pitch)"
      ],
      "metadata": {
        "id": "8qV0GWm8gC0r",
        "colab": {
          "base_uri": "https://localhost:8080/",
          "height": 379,
          "referenced_widgets": [
            "372c30e7ad4d4d7e92dc18325236e6a3",
            "e09234f6dc484761b1978a5d200beb48",
            "246ab7718bdc444d96adc3b8510e197a",
            "9bd000b9223042b1a3f70d526cb3fa61",
            "daa09205cdbe41a4b2df027a3cf570e6",
            "9a5d297d496e4af4b43a7040f945055d",
            "6c97421c0c1f43d48f62d3a2f34775a4",
            "94aa5e58949748b8a6f83c9f94cde263",
            "3261d56894964294852d40910190ddc3",
            "2ed201fb03e04617980597fff1d35692",
            "6b8384d74fe14fd395d27e3d2307dff3"
          ]
        },
        "outputId": "5dc3b88a-9137-4fc3-e57c-54887a8a17a8"
      },
      "execution_count": null,
      "outputs": [
        {
          "output_type": "stream",
          "name": "stderr",
          "text": [
            "WARNING:absl:You use TensorFlow DType <dtype: 'string'> in tfds.features This will soon be deprecated in favor of NumPy DTypes. In the meantime it was converted to object.\n",
            "WARNING:absl:You use TensorFlow DType <dtype: 'bool'> in tfds.features This will soon be deprecated in favor of NumPy DTypes. In the meantime it was converted to bool.\n"
          ]
        },
        {
          "output_type": "stream",
          "name": "stdout",
          "text": [
            "Downloading and preparing dataset 73.07 GiB (download: 73.07 GiB, generated: 73.09 GiB, total: 146.16 GiB) to /root/tensorflow_datasets/nsynth/full/2.3.3...\n"
          ]
        },
        {
          "output_type": "display_data",
          "data": {
            "text/plain": [
              "Dl Completed...:   0%|          | 0/1069 [00:00<?, ? file/s]"
            ],
            "application/vnd.jupyter.widget-view+json": {
              "version_major": 2,
              "version_minor": 0,
              "model_id": "372c30e7ad4d4d7e92dc18325236e6a3"
            }
          },
          "metadata": {}
        },
        {
          "output_type": "stream",
          "name": "stdout",
          "text": [
            "Dataset nsynth downloaded and prepared to /root/tensorflow_datasets/nsynth/full/2.3.3. Subsequent calls will reuse this data.\n",
            "tf.Tensor(\n",
            "[85 10 60 33 48 84 21 54 13 33  0  6 49 52 56 17  4 74  6 40 63 20 44 41\n",
            "  7 22 67 64  8 78 16 48], shape=(32,), dtype=int64)\n",
            "tf.Tensor(\n",
            "[14 29 87 32 70 84 65 66 30 56 28 85 47 33 24 49 81 18 21 51 34 61 36  8\n",
            " 10 45 61 70 74 33 57 52], shape=(32,), dtype=int64)\n",
            "tf.Tensor(\n",
            "[42 16 62 72 38 63 72 58 35 40 68 67 22  3 47 57 68 77 50 28 45 46 33 65\n",
            " 30 22 10 74  5 16 81 52], shape=(32,), dtype=int64)\n",
            "tf.Tensor(\n",
            "[70 27 58 49 17 14 52 19 19 84 15 86 67 16 11 65 25 55 53 15 24 72 73 51\n",
            " 37  6 76 24 72 13 25 41], shape=(32,), dtype=int64)\n",
            "tf.Tensor(\n",
            "[79 31 60 45 83 38 28 25 56  9 38 43 52 86 25 57 16 27 25 25 21 76 59 43\n",
            " 46 64 43 13 85 26  7 36], shape=(32,), dtype=int64)\n"
          ]
        }
      ]
    },
    {
      "cell_type": "code",
      "execution_count": null,
      "metadata": {
        "id": "8IGad4g33Vwh",
        "colab": {
          "base_uri": "https://localhost:8080/"
        },
        "outputId": "1f771dd5-20a1-4c80-dcdf-f7e3b33b707f"
      },
      "outputs": [
        {
          "output_type": "stream",
          "name": "stdout",
          "text": [
            "First sample audio max value: 0.46275418996810913\n",
            "First sample audio min value: -0.46886491775512695\n",
            "First sample audio range: 0.9316191077232361\n",
            "First sample pitch: 85\n"
          ]
        }
      ],
      "source": [
        "# printing a sample audio and pitch value\n",
        "for audio, pitch in train_loader.take(1):\n",
        "    first_sample_audio = audio[0]\n",
        "    first_sample_pitch = pitch[0]\n",
        "\n",
        "    # Calculate the maximum and minimum values\n",
        "    max_value = tf.reduce_max(first_sample_audio)\n",
        "    min_value = tf.reduce_min(first_sample_audio)\n",
        "\n",
        "    # Calculate the range (max - min)\n",
        "    range_value = max_value - min_value\n",
        "\n",
        "    print(f\"First sample audio max value: {max_value.numpy()}\")\n",
        "    print(f\"First sample audio min value: {min_value.numpy()}\")\n",
        "    print(f\"First sample audio range: {range_value.numpy()}\")\n",
        "    print(f\"First sample pitch: {first_sample_pitch.numpy()}\")"
      ]
    },
    {
      "cell_type": "code",
      "source": [
        "for audio, pitch in train_loader:\n",
        "  print(audio.shape)\n",
        "  print(pitch.shape)\n"
      ],
      "metadata": {
        "colab": {
          "base_uri": "https://localhost:8080/"
        },
        "id": "vLg7K5F4Mw6R",
        "outputId": "870fdccf-5150-40dc-e668-0c33f5e62ef7"
      },
      "execution_count": null,
      "outputs": [
        {
          "output_type": "stream",
          "name": "stdout",
          "text": [
            "(32, 48000)\n",
            "(32,)\n",
            "(32, 48000)\n",
            "(32,)\n",
            "(32, 48000)\n",
            "(32,)\n",
            "(32, 48000)\n",
            "(32,)\n",
            "(32, 48000)\n",
            "(32,)\n",
            "(32, 48000)\n",
            "(32,)\n",
            "(32, 48000)\n",
            "(32,)\n",
            "(32, 48000)\n",
            "(32,)\n",
            "(32, 48000)\n",
            "(32,)\n",
            "(32, 48000)\n",
            "(32,)\n",
            "(32, 48000)\n",
            "(32,)\n",
            "(32, 48000)\n",
            "(32,)\n",
            "(32, 48000)\n",
            "(32,)\n",
            "(32, 48000)\n",
            "(32,)\n",
            "(32, 48000)\n",
            "(32,)\n",
            "(32, 48000)\n",
            "(32,)\n",
            "(32, 48000)\n",
            "(32,)\n",
            "(32, 48000)\n",
            "(32,)\n",
            "(32, 48000)\n",
            "(32,)\n",
            "(32, 48000)\n",
            "(32,)\n",
            "(32, 48000)\n",
            "(32,)\n",
            "(32, 48000)\n",
            "(32,)\n",
            "(32, 48000)\n",
            "(32,)\n",
            "(32, 48000)\n",
            "(32,)\n",
            "(32, 48000)\n",
            "(32,)\n",
            "(32, 48000)\n",
            "(32,)\n",
            "(32, 48000)\n",
            "(32,)\n",
            "(32, 48000)\n",
            "(32,)\n",
            "(32, 48000)\n",
            "(32,)\n",
            "(32, 48000)\n",
            "(32,)\n",
            "(32, 48000)\n",
            "(32,)\n",
            "(32, 48000)\n",
            "(32,)\n",
            "(32, 48000)\n",
            "(32,)\n",
            "(32, 48000)\n",
            "(32,)\n",
            "(32, 48000)\n",
            "(32,)\n",
            "(32, 48000)\n",
            "(32,)\n",
            "(32, 48000)\n",
            "(32,)\n",
            "(32, 48000)\n",
            "(32,)\n",
            "(32, 48000)\n",
            "(32,)\n",
            "(32, 48000)\n",
            "(32,)\n",
            "(32, 48000)\n",
            "(32,)\n",
            "(32, 48000)\n",
            "(32,)\n",
            "(32, 48000)\n",
            "(32,)\n",
            "(32, 48000)\n",
            "(32,)\n",
            "(32, 48000)\n",
            "(32,)\n",
            "(32, 48000)\n",
            "(32,)\n",
            "(32, 48000)\n",
            "(32,)\n",
            "(32, 48000)\n",
            "(32,)\n",
            "(32, 48000)\n",
            "(32,)\n",
            "(32, 48000)\n",
            "(32,)\n",
            "(32, 48000)\n",
            "(32,)\n",
            "(32, 48000)\n",
            "(32,)\n",
            "(32, 48000)\n",
            "(32,)\n",
            "(32, 48000)\n",
            "(32,)\n",
            "(32, 48000)\n",
            "(32,)\n",
            "(32, 48000)\n",
            "(32,)\n",
            "(32, 48000)\n",
            "(32,)\n",
            "(32, 48000)\n",
            "(32,)\n",
            "(32, 48000)\n",
            "(32,)\n",
            "(32, 48000)\n",
            "(32,)\n",
            "(32, 48000)\n",
            "(32,)\n",
            "(32, 48000)\n",
            "(32,)\n",
            "(32, 48000)\n",
            "(32,)\n",
            "(32, 48000)\n",
            "(32,)\n",
            "(32, 48000)\n",
            "(32,)\n",
            "(32, 48000)\n",
            "(32,)\n",
            "(32, 48000)\n",
            "(32,)\n",
            "(32, 48000)\n",
            "(32,)\n",
            "(32, 48000)\n",
            "(32,)\n",
            "(32, 48000)\n",
            "(32,)\n",
            "(32, 48000)\n",
            "(32,)\n",
            "(32, 48000)\n",
            "(32,)\n",
            "(32, 48000)\n",
            "(32,)\n",
            "(32, 48000)\n",
            "(32,)\n",
            "(32, 48000)\n",
            "(32,)\n",
            "(32, 48000)\n",
            "(32,)\n",
            "(32, 48000)\n",
            "(32,)\n",
            "(32, 48000)\n",
            "(32,)\n",
            "(32, 48000)\n",
            "(32,)\n",
            "(32, 48000)\n",
            "(32,)\n"
          ]
        }
      ]
    },
    {
      "cell_type": "code",
      "source": [
        "# get number of batches in each loader\n",
        "def get_dataset_length(data_loader):\n",
        "    length = 0\n",
        "    for _ in data_loader:\n",
        "        length += 1\n",
        "    return length\n",
        "\n",
        "# Use this function to get the length of your data loaders\n",
        "test_loader_length = get_dataset_length(test_loader)\n",
        "val_loader_length = get_dataset_length(val_loader)\n",
        "train_loader_length = get_dataset_length(train_loader)\n",
        "\n",
        "print(f\"Train loader length: {train_loader_length}\")\n",
        "print(f\"Validation loader length: {val_loader_length}\")\n",
        "print(f\"Test loader length: {test_loader_length}\")"
      ],
      "metadata": {
        "colab": {
          "base_uri": "https://localhost:8080/"
        },
        "id": "mtGkBcScNX6O",
        "outputId": "75fbc33c-6a9d-4a78-f181-021f71b173e2"
      },
      "execution_count": null,
      "outputs": [
        {
          "output_type": "stream",
          "name": "stdout",
          "text": [
            "Train loader length: 80\n",
            "Validation loader length: 10\n",
            "Test loader length: 10\n"
          ]
        }
      ]
    },
    {
      "cell_type": "code",
      "source": [
        "# get number of samples in each loader\n",
        "def get_dataset_sample_count(data_loader):\n",
        "    total_samples = 0\n",
        "    for audio, pitch in data_loader:\n",
        "        # Count the number of samples in each batch\n",
        "        batch_samples = tf.shape(audio)[0]  # assuming audio is a 2D tensor [batch_size, features]\n",
        "        total_samples += batch_samples\n",
        "    return total_samples\n",
        "\n",
        "# Use this function to get the number of samples in your data loaders\n",
        "test_samples_count = get_dataset_sample_count(test_loader)\n",
        "val_samples_count = get_dataset_sample_count(val_loader)\n",
        "train_samples_count = get_dataset_sample_count(train_loader)\n",
        "\n",
        "print(f\"Train loader samples: {train_samples_count}\")\n",
        "print(f\"Validation loader samples: {val_samples_count}\")\n",
        "print(f\"Test loader samples: {test_samples_count}\")"
      ],
      "metadata": {
        "colab": {
          "base_uri": "https://localhost:8080/"
        },
        "id": "zOqZSyzqZOqp",
        "outputId": "41847fc7-15bf-4e8a-ad1f-6686be667be6"
      },
      "execution_count": null,
      "outputs": [
        {
          "output_type": "stream",
          "name": "stdout",
          "text": [
            "Train loader samples: 2560\n",
            "Validation loader samples: 320\n",
            "Test loader samples: 320\n"
          ]
        }
      ]
    },
    {
      "cell_type": "code",
      "source": [
        "################################################################################################################################################################\n",
        "####################################################################### Model and Training #####################################################################\n",
        "################################################################################################################################################################"
      ],
      "metadata": {
        "id": "NugixcBbTB0J"
      },
      "execution_count": null,
      "outputs": []
    },
    {
      "cell_type": "code",
      "source": [
        "import torch.nn as nn\n",
        "import torch.nn.functional as F\n",
        "import torch.optim as optim\n",
        "import torch\n",
        "\n",
        "torch.manual_seed(10)"
      ],
      "metadata": {
        "id": "K93FP75yTTES",
        "colab": {
          "base_uri": "https://localhost:8080/"
        },
        "outputId": "f06bc41c-e0bd-41c0-88bc-8650b7b6af6b"
      },
      "execution_count": null,
      "outputs": [
        {
          "output_type": "execute_result",
          "data": {
            "text/plain": [
              "<torch._C.Generator at 0x7bad4c167a30>"
            ]
          },
          "metadata": {},
          "execution_count": 10
        }
      ]
    },
    {
      "cell_type": "code",
      "source": [
        "for audio, pitch in train_loader.take(1):\n",
        "  print(f\"Audio shape: {audio.shape}\")"
      ],
      "metadata": {
        "colab": {
          "base_uri": "https://localhost:8080/"
        },
        "id": "nWXjA-_1Vn1x",
        "outputId": "0792eeaf-bd9a-4662-ee81-700da414d829"
      },
      "execution_count": null,
      "outputs": [
        {
          "output_type": "stream",
          "name": "stdout",
          "text": [
            "Audio shape: (32, 48000)\n"
          ]
        }
      ]
    },
    {
      "cell_type": "code",
      "source": [
        "# Model architecture\n",
        "\n",
        "'''\n",
        "class PitchDetectionModel(nn.Module):\n",
        "  def __init__(self):\n",
        "    super(PitchDetectionModel, self).__init__()\n",
        "    self.conv1 = nn.Conv1d(in_channels=1,     out_channels=1024,  kernel_size=4, stride=4)\n",
        "    self.conv2 = nn.Conv1d(in_channels=1024,  out_channels=128,   kernel_size=4, stride=4)\n",
        "    self.conv3 = nn.Conv1d(in_channels=128,   out_channels=128,   kernel_size=4, stride=4)\n",
        "    self.conv4 = nn.Conv1d(in_channels=128,   out_channels=256,   kernel_size=2, stride=2)\n",
        "    self.pool  = nn.MaxPool1d(2, 2)\n",
        "    self.fc1   = nn.Linear(256*23, 88)\n",
        "\n",
        "  def forward(self, x):                   # Input length 48,000,  channels 1\n",
        "    x = self.pool(F.relu(self.conv1(x)))  #       length 6,000,   channels 1024\n",
        "    x = self.pool(F.relu(self.conv2(x)))  #       length 750,     channels 128\n",
        "    x = self.pool(F.relu(self.conv3(x)))  #       length 93,      channels 128\n",
        "    x = self.pool(F.relu(self.conv4(x)))  #       length 23,      channels 256\n",
        "    x = x.view(-1, 256*23)                # Flatten the tensor\n",
        "    x = self.fc1(x)                       # Output length 88\n",
        "    # x = F.softmax(self.fc1(x))\n",
        "    return x                              # Assuming CELoss\n",
        "'''"
      ],
      "metadata": {
        "id": "UuXgpGqKTO9s",
        "colab": {
          "base_uri": "https://localhost:8080/",
          "height": 87
        },
        "outputId": "b48bcb39-cdc3-4ed0-8aee-170fb45b4e07"
      },
      "execution_count": null,
      "outputs": [
        {
          "output_type": "execute_result",
          "data": {
            "text/plain": [
              "'\\nclass PitchDetectionModel(nn.Module):\\n  def __init__(self):\\n    super(PitchDetectionModel, self).__init__()\\n    self.conv1 = nn.Conv1d(in_channels=1,     out_channels=1024,  kernel_size=4, stride=4)\\n    self.conv2 = nn.Conv1d(in_channels=1024,  out_channels=128,   kernel_size=4, stride=4)\\n    self.conv3 = nn.Conv1d(in_channels=128,   out_channels=128,   kernel_size=4, stride=4)\\n    self.conv4 = nn.Conv1d(in_channels=128,   out_channels=256,   kernel_size=2, stride=2)\\n    self.pool  = nn.MaxPool1d(2, 2)\\n    self.fc1   = nn.Linear(256*23, 88)\\n\\n  def forward(self, x):                   # Input length 48,000,  channels 1\\n    x = self.pool(F.relu(self.conv1(x)))  #       length 6,000,   channels 1024\\n    x = self.pool(F.relu(self.conv2(x)))  #       length 750,     channels 128\\n    x = self.pool(F.relu(self.conv3(x)))  #       length 93,      channels 128\\n    x = self.pool(F.relu(self.conv4(x)))  #       length 23,      channels 256\\n    x = x.view(-1, 256*23)                # Flatten the tensor\\n    x = self.fc1(x)                       # Output length 88\\n    # x = F.softmax(self.fc1(x))\\n    return x                              # Assuming CELoss\\n'"
            ],
            "application/vnd.google.colaboratory.intrinsic+json": {
              "type": "string"
            }
          },
          "metadata": {},
          "execution_count": 12
        }
      ]
    },
    {
      "cell_type": "code",
      "source": [
        "from keras import layers, models"
      ],
      "metadata": {
        "id": "o5NaUzFYmPvs"
      },
      "execution_count": null,
      "outputs": []
    },
    {
      "cell_type": "code",
      "source": [
        "'''\n",
        "class PitchDetectionModel(tf.keras.Model):\n",
        "  def __init__(self):\n",
        "    super(PitchDetectionModel, self).__init__()\n",
        "    self.conv1 = tf.keras.layers.Conv1D(in_channels=1,     out_channels=1024,  kernel_size=4, stride=4)\n",
        "    self.conv2 = tf.keras.layers.Conv1D(in_channels=1024,  out_channels=128,   kernel_size=4, stride=4)\n",
        "    self.conv3 = tf.keras.layers.Conv1D(in_channels=128,   out_channels=128,   kernel_size=4, stride=4)\n",
        "    self.conv4 = tf.keras.layers.Conv1D(in_channels=128,   out_channels=256,   kernel_size=2, stride=2)\n",
        "    self.pool  = tf.keras.layers.MaxPool1D(2, 2)\n",
        "    self.fc1   = tf.keras.layers.Dense(88)\n",
        "\n",
        "  def call(self, x):                   # Input length 48,000,  channels 1\n",
        "    x = self.pool(tf.nn.relu(self.conv1(x)))  #       length 6,000,   channels 1024\n",
        "    x = self.pool(tf.nn.relu(self.conv2(x)))  #       length 750,     channels 128\n",
        "    x = self.pool(tf.nn.relu(self.conv3(x)))  #       length 93,      channels 128\n",
        "    x = self.pool(tf.nn.relu(self.conv4(x)))  #       length 23,      channels 256\n",
        "    x = tf.reshape(x, (-1, 256*23))                # Flatten the tensor\n",
        "    x = self.fc1(x)                       # Output length 88\n",
        "    # x = tf.nn.softmax(self.fc1(x))\n",
        "    return x                              # Assuming CELoss\n",
        "\n",
        "model = PitchDetectionModel()\n",
        "'''"
      ],
      "metadata": {
        "id": "3VAR6qnOQdbx",
        "colab": {
          "base_uri": "https://localhost:8080/",
          "height": 87
        },
        "outputId": "8181fb88-e4bf-47ae-d8f7-9a3593392657"
      },
      "execution_count": null,
      "outputs": [
        {
          "output_type": "execute_result",
          "data": {
            "text/plain": [
              "'\\nclass PitchDetectionModel(tf.keras.Model):\\n  def __init__(self):\\n    super(PitchDetectionModel, self).__init__()\\n    self.conv1 = tf.keras.layers.Conv1D(in_channels=1,     out_channels=1024,  kernel_size=4, stride=4)\\n    self.conv2 = tf.keras.layers.Conv1D(in_channels=1024,  out_channels=128,   kernel_size=4, stride=4)\\n    self.conv3 = tf.keras.layers.Conv1D(in_channels=128,   out_channels=128,   kernel_size=4, stride=4)\\n    self.conv4 = tf.keras.layers.Conv1D(in_channels=128,   out_channels=256,   kernel_size=2, stride=2)\\n    self.pool  = tf.keras.layers.MaxPool1D(2, 2)\\n    self.fc1   = tf.keras.layers.Dense(88)\\n\\n  def call(self, x):                   # Input length 48,000,  channels 1\\n    x = self.pool(tf.nn.relu(self.conv1(x)))  #       length 6,000,   channels 1024\\n    x = self.pool(tf.nn.relu(self.conv2(x)))  #       length 750,     channels 128\\n    x = self.pool(tf.nn.relu(self.conv3(x)))  #       length 93,      channels 128\\n    x = self.pool(tf.nn.relu(self.conv4(x)))  #       length 23,      channels 256\\n    x = tf.reshape(x, (-1, 256*23))                # Flatten the tensor\\n    x = self.fc1(x)                       # Output length 88\\n    # x = tf.nn.softmax(self.fc1(x))\\n    return x                              # Assuming CELoss\\n\\nmodel = PitchDetectionModel()\\n'"
            ],
            "application/vnd.google.colaboratory.intrinsic+json": {
              "type": "string"
            }
          },
          "metadata": {},
          "execution_count": 14
        }
      ]
    },
    {
      "cell_type": "code",
      "source": [
        "\n",
        "# class PitchDetectionModel(tf.keras.Model):\n",
        "#     def __init__(self):\n",
        "#         super(PitchDetectionModel, self).__init__()\n",
        "#         self.reshape = layers.Reshape((48000, 1))\n",
        "#         self.conv1 = layers.Conv1D(1024, kernel_size=4, strides=4, activation='relu')\n",
        "#         self.conv2 = layers.Conv1D(128, kernel_size=4, strides=4, activation='relu')\n",
        "#         self.conv3 = layers.Conv1D(128, kernel_size=4, strides=4, activation='relu')\n",
        "#         self.conv4 = layers.Conv1D(256, kernel_size=2, strides=2, activation='relu')\n",
        "#         self.pool = layers.MaxPooling1D(2)\n",
        "#         self.flatten = layers.Flatten()\n",
        "#         self.fc1 = layers.Dense(88)\n",
        "\n",
        "#     def call(self, x):\n",
        "#         x = self.reshape(x)\n",
        "#         x = self.pool(self.conv1(x))\n",
        "#         x = self.pool(self.conv2(x))\n",
        "#         x = self.pool(self.conv3(x))\n",
        "#         x = self.pool(self.conv4(x))\n",
        "#         x = self.flatten(x)\n",
        "#         return self.fc1(x)\n"
      ],
      "metadata": {
        "id": "VSAFmJQjmQkx"
      },
      "execution_count": null,
      "outputs": []
    },
    {
      "cell_type": "code",
      "source": [
        "class PitchDetectionModel(tf.keras.Model):\n",
        "    def __init__(self):\n",
        "        super(PitchDetectionModel, self).__init__()\n",
        "        self.reshape = layers.Reshape((48000, 1))\n",
        "        self.conv1 = layers.Conv1D(1024, kernel_size=4, strides=4, activation='relu')\n",
        "        self.drop1 = layers.Dropout(0.2)  # Dropout layer after conv1\n",
        "        self.conv2 = layers.Conv1D(128, kernel_size=4, strides=4, activation='relu')\n",
        "        self.drop2 = layers.Dropout(0.2)  # Dropout layer after conv4\n",
        "        self.conv3 = layers.Conv1D(128, kernel_size=4, strides=4, activation='relu')\n",
        "        self.drop3 = layers.Dropout(0.5)  # Dropout layer after conv4\n",
        "        self.conv4 = layers.Conv1D(256, kernel_size=2, strides=2, activation='relu')\n",
        "        self.drop4 = layers.Dropout(0.5)  # Dropout layer after conv4\n",
        "        self.pool = layers.MaxPooling1D(2)\n",
        "        self.flatten = layers.Flatten()\n",
        "        self.fc1 = layers.Dense(88)\n",
        "\n",
        "    def call(self, x, training=False):\n",
        "        x = self.reshape(x)\n",
        "        x = self.conv1(x)\n",
        "        x = self.pool(x)\n",
        "        x = self.drop1(x, training=training)  # Apply dropout only during training\n",
        "        x = self.conv2(x)\n",
        "        x = self.pool(x)\n",
        "        x = self.drop2(x, training=training)\n",
        "        x = self.conv3(x)\n",
        "        x = self.pool(x)\n",
        "        x = self.drop3(x, training=training)\n",
        "        x = self.conv4(x)\n",
        "        x = self.pool(x)\n",
        "        x = self.drop4(x, training=training)\n",
        "        x = self.flatten(x)\n",
        "        return self.fc1(x)\n"
      ],
      "metadata": {
        "id": "XpSbOEJhxvwW"
      },
      "execution_count": null,
      "outputs": []
    },
    {
      "cell_type": "code",
      "source": [
        "'''\n",
        "class PitchDetectionModel(tf.keras.Model):\n",
        "  def __init__(self):\n",
        "    super(PitchDetectionModel, self).__init__()\n",
        "    self.reshape = layers.Reshape((48000, 1))\n",
        "    self.conv1 = layers.Conv1D(1024, kernel_size=4, strides=4, activation='relu')\n",
        "    self.conv2 = layers.Conv1D(128, kernel_size=4, strides=4, activation='relu')\n",
        "    self.conv3 = layers.Conv1D(128, kernel_size=4, strides=4, activation='relu')\n",
        "    self.conv4 = layers.Conv1D(256, kernel_size=2, strides=2, activation='relu')\n",
        "    self.pool = layers.MaxPooling1D(2)\n",
        "    self.flatten = layers.Flatten()\n",
        "    self.fc1 = layers.Dense(88)\n",
        "\n",
        "  def call(self, x):                   # Input length 48,000,  channels 1\n",
        "    x = self.pool(tf.nn.relu(self.conv1(x)))  #       length 6,000,   channels 1024\n",
        "    x = self.pool(tf.nn.relu(self.conv2(x)))  #       length 750,     channels 128\n",
        "    x = self.pool(tf.nn.relu(self.conv3(x)))  #       length 93,      channels 128\n",
        "    x = self.pool(tf.nn.relu(self.conv4(x)))  #       length 23,      channels 256\n",
        "    x = tf.reshape(x, (-1, 256*23))                # Flatten the tensor\n",
        "    x = self.fc1(x)                       # Output length 88\n",
        "    # x = tf.nn.softmax(self.fc1(x))\n",
        "    return x                              # Assuming CELoss\n",
        "'''"
      ],
      "metadata": {
        "colab": {
          "base_uri": "https://localhost:8080/",
          "height": 87
        },
        "id": "BdaqtYg1SaO5",
        "outputId": "c6fb2132-2dd9-4d60-f621-12510c59021e"
      },
      "execution_count": null,
      "outputs": [
        {
          "output_type": "execute_result",
          "data": {
            "text/plain": [
              "\"\\nclass PitchDetectionModel(tf.keras.Model):\\n  def __init__(self):\\n    super(PitchDetectionModel, self).__init__()\\n    self.reshape = layers.Reshape((48000, 1))\\n    self.conv1 = layers.Conv1D(1024, kernel_size=4, strides=4, activation='relu')\\n    self.conv2 = layers.Conv1D(128, kernel_size=4, strides=4, activation='relu')\\n    self.conv3 = layers.Conv1D(128, kernel_size=4, strides=4, activation='relu')\\n    self.conv4 = layers.Conv1D(256, kernel_size=2, strides=2, activation='relu')\\n    self.pool = layers.MaxPooling1D(2)\\n    self.flatten = layers.Flatten()\\n    self.fc1 = layers.Dense(88)\\n\\n  def call(self, x):                   # Input length 48,000,  channels 1\\n    x = self.pool(tf.nn.relu(self.conv1(x)))  #       length 6,000,   channels 1024\\n    x = self.pool(tf.nn.relu(self.conv2(x)))  #       length 750,     channels 128\\n    x = self.pool(tf.nn.relu(self.conv3(x)))  #       length 93,      channels 128\\n    x = self.pool(tf.nn.relu(self.conv4(x)))  #       length 23,      channels 256\\n    x = tf.reshape(x, (-1, 256*23))                # Flatten the tensor\\n    x = self.fc1(x)                       # Output length 88\\n    # x = tf.nn.softmax(self.fc1(x))\\n    return x                              # Assuming CELoss\\n\""
            ],
            "application/vnd.google.colaboratory.intrinsic+json": {
              "type": "string"
            }
          },
          "metadata": {},
          "execution_count": 17
        }
      ]
    },
    {
      "cell_type": "code",
      "source": [
        "# Create an instance of the model\n",
        "model = PitchDetectionModel()\n",
        "\n",
        "# Compile the model\n",
        "model.compile(\n",
        "    optimizer=keras.optimizers.Adam(0.001),  # Optimizer\n",
        "    # Loss function to minimize\n",
        "    loss=keras.losses.SparseCategoricalCrossentropy(from_logits=True),\n",
        "    # List of metrics to monitor\n",
        "    metrics=[keras.metrics.SparseCategoricalAccuracy()],\n",
        ")\n",
        "\n",
        "# Train the model\n",
        "# history = model.fit(train_loader, epochs=10, validation_data=val_loader)\n",
        "\n",
        "print(\"Fit model on training data\")\n",
        "history = model.fit(\n",
        "  x=train_loader,\n",
        "  epochs=35,\n",
        "  verbose=1,\n",
        "  validation_data=val_loader\n",
        ")\n",
        "'''\n",
        "print(\"Fit model on training data\")\n",
        "history = model.fit(\n",
        "    x_train,\n",
        "    y_train,\n",
        "    batch_size=64,\n",
        "    epochs=2,\n",
        "    # We pass some validation for\n",
        "    # monitoring validation loss and metrics\n",
        "    # at the end of each epoch\n",
        "    validation_data=(x_val, y_val),\n",
        ")\n",
        "'''\n",
        "\n",
        "import matplotlib.pyplot as plt\n",
        "\n",
        "training_accuracy = history.history['sparse_categorical_accuracy']\n",
        "validation_accuracy = history.history['val_sparse_categorical_accuracy']\n",
        "\n",
        "epochs = range(1, len(training_accuracy) + 1)\n",
        "\n",
        "# Plotting the accuracy graph\n",
        "plt.figure(figsize=(12, 6))\n",
        "plt.plot(epochs, training_accuracy, label='Training Accuracy')\n",
        "plt.plot(epochs, validation_accuracy, label='Validation Accuracy')\n",
        "plt.title('Training and Validation Accuracy')\n",
        "plt.xlabel('Epochs')\n",
        "plt.ylabel('Accuracy')\n",
        "plt.legend()\n",
        "plt.show()\n"
      ],
      "metadata": {
        "colab": {
          "base_uri": "https://localhost:8080/",
          "height": 1000
        },
        "id": "vM4TAKEGLrh1",
        "outputId": "24db3966-0184-4d2d-f1e3-ffa2f4ade113"
      },
      "execution_count": null,
      "outputs": [
        {
          "output_type": "stream",
          "name": "stdout",
          "text": [
            "Fit model on training data\n",
            "Epoch 1/35\n",
            "80/80 [==============================] - 10s 107ms/step - loss: 4.4027 - sparse_categorical_accuracy: 0.0148 - val_loss: 4.1970 - val_sparse_categorical_accuracy: 0.0188\n",
            "Epoch 2/35\n",
            "80/80 [==============================] - 8s 104ms/step - loss: 3.9762 - sparse_categorical_accuracy: 0.0441 - val_loss: 3.5938 - val_sparse_categorical_accuracy: 0.0594\n",
            "Epoch 3/35\n",
            "80/80 [==============================] - 8s 104ms/step - loss: 3.5164 - sparse_categorical_accuracy: 0.0848 - val_loss: 3.1908 - val_sparse_categorical_accuracy: 0.1500\n",
            "Epoch 4/35\n",
            "80/80 [==============================] - 8s 104ms/step - loss: 3.0523 - sparse_categorical_accuracy: 0.1949 - val_loss: 2.6303 - val_sparse_categorical_accuracy: 0.3031\n",
            "Epoch 5/35\n",
            "80/80 [==============================] - 8s 104ms/step - loss: 2.5001 - sparse_categorical_accuracy: 0.3461 - val_loss: 2.2162 - val_sparse_categorical_accuracy: 0.4406\n",
            "Epoch 6/35\n",
            "80/80 [==============================] - 8s 104ms/step - loss: 2.0956 - sparse_categorical_accuracy: 0.4441 - val_loss: 1.9151 - val_sparse_categorical_accuracy: 0.5156\n",
            "Epoch 7/35\n",
            "80/80 [==============================] - 8s 104ms/step - loss: 1.7822 - sparse_categorical_accuracy: 0.5195 - val_loss: 1.8252 - val_sparse_categorical_accuracy: 0.5844\n",
            "Epoch 8/35\n",
            "80/80 [==============================] - 8s 104ms/step - loss: 1.5433 - sparse_categorical_accuracy: 0.5891 - val_loss: 1.6198 - val_sparse_categorical_accuracy: 0.6219\n",
            "Epoch 9/35\n",
            "80/80 [==============================] - 8s 105ms/step - loss: 1.3022 - sparse_categorical_accuracy: 0.6582 - val_loss: 1.5538 - val_sparse_categorical_accuracy: 0.6156\n",
            "Epoch 10/35\n",
            "80/80 [==============================] - 8s 104ms/step - loss: 1.1328 - sparse_categorical_accuracy: 0.6949 - val_loss: 1.5527 - val_sparse_categorical_accuracy: 0.6469\n",
            "Epoch 11/35\n",
            "80/80 [==============================] - 8s 104ms/step - loss: 1.0520 - sparse_categorical_accuracy: 0.7203 - val_loss: 1.6514 - val_sparse_categorical_accuracy: 0.6250\n",
            "Epoch 12/35\n",
            "80/80 [==============================] - 8s 104ms/step - loss: 1.0086 - sparse_categorical_accuracy: 0.7371 - val_loss: 1.4236 - val_sparse_categorical_accuracy: 0.6562\n",
            "Epoch 13/35\n",
            "80/80 [==============================] - 8s 105ms/step - loss: 0.8976 - sparse_categorical_accuracy: 0.7605 - val_loss: 1.4208 - val_sparse_categorical_accuracy: 0.6781\n",
            "Epoch 14/35\n",
            "80/80 [==============================] - 8s 105ms/step - loss: 0.7815 - sparse_categorical_accuracy: 0.7863 - val_loss: 1.5764 - val_sparse_categorical_accuracy: 0.6687\n",
            "Epoch 15/35\n",
            "80/80 [==============================] - 8s 105ms/step - loss: 0.7610 - sparse_categorical_accuracy: 0.7949 - val_loss: 1.3772 - val_sparse_categorical_accuracy: 0.6750\n",
            "Epoch 16/35\n",
            "80/80 [==============================] - 8s 105ms/step - loss: 0.7250 - sparse_categorical_accuracy: 0.8090 - val_loss: 1.3524 - val_sparse_categorical_accuracy: 0.6875\n",
            "Epoch 17/35\n",
            "80/80 [==============================] - 8s 105ms/step - loss: 0.6576 - sparse_categorical_accuracy: 0.8309 - val_loss: 1.4909 - val_sparse_categorical_accuracy: 0.6562\n",
            "Epoch 18/35\n",
            "80/80 [==============================] - 8s 105ms/step - loss: 0.6056 - sparse_categorical_accuracy: 0.8328 - val_loss: 1.3006 - val_sparse_categorical_accuracy: 0.7094\n",
            "Epoch 19/35\n",
            "80/80 [==============================] - 8s 105ms/step - loss: 0.6061 - sparse_categorical_accuracy: 0.8418 - val_loss: 1.4011 - val_sparse_categorical_accuracy: 0.7219\n",
            "Epoch 20/35\n",
            "80/80 [==============================] - 8s 104ms/step - loss: 0.4910 - sparse_categorical_accuracy: 0.8582 - val_loss: 1.4637 - val_sparse_categorical_accuracy: 0.7125\n",
            "Epoch 21/35\n",
            "80/80 [==============================] - 8s 105ms/step - loss: 0.5393 - sparse_categorical_accuracy: 0.8535 - val_loss: 1.5082 - val_sparse_categorical_accuracy: 0.6938\n",
            "Epoch 22/35\n",
            "80/80 [==============================] - 8s 105ms/step - loss: 0.4801 - sparse_categorical_accuracy: 0.8719 - val_loss: 1.5920 - val_sparse_categorical_accuracy: 0.6844\n",
            "Epoch 23/35\n",
            "80/80 [==============================] - 8s 105ms/step - loss: 0.4932 - sparse_categorical_accuracy: 0.8652 - val_loss: 1.6946 - val_sparse_categorical_accuracy: 0.7281\n",
            "Epoch 24/35\n",
            "80/80 [==============================] - 8s 105ms/step - loss: 0.4762 - sparse_categorical_accuracy: 0.8637 - val_loss: 1.6976 - val_sparse_categorical_accuracy: 0.7000\n",
            "Epoch 25/35\n",
            "80/80 [==============================] - 8s 105ms/step - loss: 0.4994 - sparse_categorical_accuracy: 0.8684 - val_loss: 1.5493 - val_sparse_categorical_accuracy: 0.7094\n",
            "Epoch 26/35\n",
            "80/80 [==============================] - 8s 105ms/step - loss: 0.4162 - sparse_categorical_accuracy: 0.8832 - val_loss: 1.5784 - val_sparse_categorical_accuracy: 0.7219\n",
            "Epoch 27/35\n",
            "80/80 [==============================] - 9s 105ms/step - loss: 0.4334 - sparse_categorical_accuracy: 0.8859 - val_loss: 1.5339 - val_sparse_categorical_accuracy: 0.7219\n",
            "Epoch 28/35\n",
            "80/80 [==============================] - 8s 104ms/step - loss: 0.3995 - sparse_categorical_accuracy: 0.8930 - val_loss: 1.6685 - val_sparse_categorical_accuracy: 0.7063\n",
            "Epoch 29/35\n",
            "80/80 [==============================] - 8s 105ms/step - loss: 0.3451 - sparse_categorical_accuracy: 0.9074 - val_loss: 1.9286 - val_sparse_categorical_accuracy: 0.7281\n",
            "Epoch 30/35\n",
            "80/80 [==============================] - 8s 105ms/step - loss: 0.3408 - sparse_categorical_accuracy: 0.9055 - val_loss: 1.7496 - val_sparse_categorical_accuracy: 0.7281\n",
            "Epoch 31/35\n",
            "80/80 [==============================] - 8s 104ms/step - loss: 0.3192 - sparse_categorical_accuracy: 0.9055 - val_loss: 1.6337 - val_sparse_categorical_accuracy: 0.7437\n",
            "Epoch 32/35\n",
            "80/80 [==============================] - 8s 104ms/step - loss: 0.3143 - sparse_categorical_accuracy: 0.9129 - val_loss: 1.6526 - val_sparse_categorical_accuracy: 0.7375\n",
            "Epoch 33/35\n",
            "80/80 [==============================] - 8s 104ms/step - loss: 0.3046 - sparse_categorical_accuracy: 0.9172 - val_loss: 1.7648 - val_sparse_categorical_accuracy: 0.7375\n",
            "Epoch 34/35\n",
            "80/80 [==============================] - 8s 104ms/step - loss: 0.3013 - sparse_categorical_accuracy: 0.9117 - val_loss: 1.7225 - val_sparse_categorical_accuracy: 0.7281\n",
            "Epoch 35/35\n",
            "80/80 [==============================] - 8s 104ms/step - loss: 0.2970 - sparse_categorical_accuracy: 0.9172 - val_loss: 1.7508 - val_sparse_categorical_accuracy: 0.7125\n"
          ]
        },
        {
          "output_type": "display_data",
          "data": {
            "text/plain": [
              "<Figure size 1200x600 with 1 Axes>"
            ],
            "image/png": "[encoded data removed]"
          },
          "metadata": {}
        }
      ]
    },
    {
      "cell_type": "code",
      "source": [
        "# Evaluate on test data\n",
        "test_loss, test_acc = model.evaluate(test_loader)\n",
        "print(f'Test accuracy: {test_acc}, Test loss: {test_loss}')"
      ],
      "metadata": {
        "colab": {
          "base_uri": "https://localhost:8080/"
        },
        "id": "G2zH0G8k69h0",
        "outputId": "2518ccc7-7bc2-497b-d80d-0c49e0b96d52"
      },
      "execution_count": null,
      "outputs": [
        {
          "output_type": "stream",
          "name": "stdout",
          "text": [
            "10/10 [==============================] - 1s 39ms/step - loss: 2.0310 - sparse_categorical_accuracy: 0.7031\n",
            "Test accuracy: 0.703125, Test loss: 2.0309624671936035\n"
          ]
        }
      ]
    }
  ],
  "metadata": {
    "accelerator": "GPU",
    "colab": {
      "machine_shape": "hm",
      "provenance": [],
      "gpuType": "V100"
    },
    "kernelspec": {
      "display_name": "Python 3",
      "name": "python3"
    },
    "language_info": {
      "name": "python"
    },
    "widgets": {
      "application/vnd.jupyter.widget-state+json": {
        "372c30e7ad4d4d7e92dc18325236e6a3": {
          "model_module": "@jupyter-widgets/controls",
          "model_name": "HBoxModel",
          "model_module_version": "1.5.0",
          "state": {
            "_dom_classes": [],
            "_model_module": "@jupyter-widgets/controls",
            "_model_module_version": "1.5.0",
            "_model_name": "HBoxModel",
            "_view_count": null,
            "_view_module": "@jupyter-widgets/controls",
            "_view_module_version": "1.5.0",
            "_view_name": "HBoxView",
            "box_style": "",
            "children": [
              "IPY_MODEL_e09234f6dc484761b1978a5d200beb48",
              "IPY_MODEL_246ab7718bdc444d96adc3b8510e197a",
              "IPY_MODEL_9bd000b9223042b1a3f70d526cb3fa61"
            ],
            "layout": "IPY_MODEL_daa09205cdbe41a4b2df027a3cf570e6"
          }
        },
        "e09234f6dc484761b1978a5d200beb48": {
          "model_module": "@jupyter-widgets/controls",
          "model_name": "HTMLModel",
          "model_module_version": "1.5.0",
          "state": {
            "_dom_classes": [],
            "_model_module": "@jupyter-widgets/controls",
            "_model_module_version": "1.5.0",
            "_model_name": "HTMLModel",
            "_view_count": null,
            "_view_module": "@jupyter-widgets/controls",
            "_view_module_version": "1.5.0",
            "_view_name": "HTMLView",
            "description": "",
            "description_tooltip": null,
            "layout": "IPY_MODEL_9a5d297d496e4af4b43a7040f945055d",
            "placeholder": "​",
            "style": "IPY_MODEL_6c97421c0c1f43d48f62d3a2f34775a4",
            "value": "Dl Completed...: 100%"
          }
        },
        "246ab7718bdc444d96adc3b8510e197a": {
          "model_module": "@jupyter-widgets/controls",
          "model_name": "FloatProgressModel",
          "model_module_version": "1.5.0",
          "state": {
            "_dom_classes": [],
            "_model_module": "@jupyter-widgets/controls",
            "_model_module_version": "1.5.0",
            "_model_name": "FloatProgressModel",
            "_view_count": null,
            "_view_module": "@jupyter-widgets/controls",
            "_view_module_version": "1.5.0",
            "_view_name": "ProgressView",
            "bar_style": "success",
            "description": "",
            "description_tooltip": null,
            "layout": "IPY_MODEL_94aa5e58949748b8a6f83c9f94cde263",
            "max": 1069,
            "min": 0,
            "orientation": "horizontal",
            "style": "IPY_MODEL_3261d56894964294852d40910190ddc3",
            "value": 1069
          }
        },
        "9bd000b9223042b1a3f70d526cb3fa61": {
          "model_module": "@jupyter-widgets/controls",
          "model_name": "HTMLModel",
          "model_module_version": "1.5.0",
          "state": {
            "_dom_classes": [],
            "_model_module": "@jupyter-widgets/controls",
            "_model_module_version": "1.5.0",
            "_model_name": "HTMLModel",
            "_view_count": null,
            "_view_module": "@jupyter-widgets/controls",
            "_view_module_version": "1.5.0",
            "_view_name": "HTMLView",
            "description": "",
            "description_tooltip": null,
            "layout": "IPY_MODEL_2ed201fb03e04617980597fff1d35692",
            "placeholder": "​",
            "style": "IPY_MODEL_6b8384d74fe14fd395d27e3d2307dff3",
            "value": " 1069/1069 [04:39&lt;00:00,  2.23 file/s]"
          }
        },
        "daa09205cdbe41a4b2df027a3cf570e6": {
          "model_module": "@jupyter-widgets/base",
          "model_name": "LayoutModel",
          "model_module_version": "1.2.0",
          "state": {
            "_model_module": "@jupyter-widgets/base",
            "_model_module_version": "1.2.0",
            "_model_name": "LayoutModel",
            "_view_count": null,
            "_view_module": "@jupyter-widgets/base",
            "_view_module_version": "1.2.0",
            "_view_name": "LayoutView",
            "align_content": null,
            "align_items": null,
            "align_self": null,
            "border": null,
            "bottom": null,
            "display": null,
            "flex": null,
            "flex_flow": null,
            "grid_area": null,
            "grid_auto_columns": null,
            "grid_auto_flow": null,
            "grid_auto_rows": null,
            "grid_column": null,
            "grid_gap": null,
            "grid_row": null,
            "grid_template_areas": null,
            "grid_template_columns": null,
            "grid_template_rows": null,
            "height": null,
            "justify_content": null,
            "justify_items": null,
            "left": null,
            "margin": null,
            "max_height": null,
            "max_width": null,
            "min_height": null,
            "min_width": null,
            "object_fit": null,
            "object_position": null,
            "order": null,
            "overflow": null,
            "overflow_x": null,
            "overflow_y": null,
            "padding": null,
            "right": null,
            "top": null,
            "visibility": null,
            "width": null
          }
        },
        "9a5d297d496e4af4b43a7040f945055d": {
          "model_module": "@jupyter-widgets/base",
          "model_name": "LayoutModel",
          "model_module_version": "1.2.0",
          "state": {
            "_model_module": "@jupyter-widgets/base",
            "_model_module_version": "1.2.0",
            "_model_name": "LayoutModel",
            "_view_count": null,
            "_view_module": "@jupyter-widgets/base",
            "_view_module_version": "1.2.0",
            "_view_name": "LayoutView",
            "align_content": null,
            "align_items": null,
            "align_self": null,
            "border": null,
            "bottom": null,
            "display": null,
            "flex": null,
            "flex_flow": null,
            "grid_area": null,
            "grid_auto_columns": null,
            "grid_auto_flow": null,
            "grid_auto_rows": null,
            "grid_column": null,
            "grid_gap": null,
            "grid_row": null,
            "grid_template_areas": null,
            "grid_template_columns": null,
            "grid_template_rows": null,
            "height": null,
            "justify_content": null,
            "justify_items": null,
            "left": null,
            "margin": null,
            "max_height": null,
            "max_width": null,
            "min_height": null,
            "min_width": null,
            "object_fit": null,
            "object_position": null,
            "order": null,
            "overflow": null,
            "overflow_x": null,
            "overflow_y": null,
            "padding": null,
            "right": null,
            "top": null,
            "visibility": null,
            "width": null
          }
        },
        "6c97421c0c1f43d48f62d3a2f34775a4": {
          "model_module": "@jupyter-widgets/controls",
          "model_name": "DescriptionStyleModel",
          "model_module_version": "1.5.0",
          "state": {
            "_model_module": "@jupyter-widgets/controls",
            "_model_module_version": "1.5.0",
            "_model_name": "DescriptionStyleModel",
            "_view_count": null,
            "_view_module": "@jupyter-widgets/base",
            "_view_module_version": "1.2.0",
            "_view_name": "StyleView",
            "description_width": ""
          }
        },
        "94aa5e58949748b8a6f83c9f94cde263": {
          "model_module": "@jupyter-widgets/base",
          "model_name": "LayoutModel",
          "model_module_version": "1.2.0",
          "state": {
            "_model_module": "@jupyter-widgets/base",
            "_model_module_version": "1.2.0",
            "_model_name": "LayoutModel",
            "_view_count": null,
            "_view_module": "@jupyter-widgets/base",
            "_view_module_version": "1.2.0",
            "_view_name": "LayoutView",
            "align_content": null,
            "align_items": null,
            "align_self": null,
            "border": null,
            "bottom": null,
            "display": null,
            "flex": null,
            "flex_flow": null,
            "grid_area": null,
            "grid_auto_columns": null,
            "grid_auto_flow": null,
            "grid_auto_rows": null,
            "grid_column": null,
            "grid_gap": null,
            "grid_row": null,
            "grid_template_areas": null,
            "grid_template_columns": null,
            "grid_template_rows": null,
            "height": null,
            "justify_content": null,
            "justify_items": null,
            "left": null,
            "margin": null,
            "max_height": null,
            "max_width": null,
            "min_height": null,
            "min_width": null,
            "object_fit": null,
            "object_position": null,
            "order": null,
            "overflow": null,
            "overflow_x": null,
            "overflow_y": null,
            "padding": null,
            "right": null,
            "top": null,
            "visibility": null,
            "width": null
          }
        },
        "3261d56894964294852d40910190ddc3": {
          "model_module": "@jupyter-widgets/controls",
          "model_name": "ProgressStyleModel",
          "model_module_version": "1.5.0",
          "state": {
            "_model_module": "@jupyter-widgets/controls",
            "_model_module_version": "1.5.0",
            "_model_name": "ProgressStyleModel",
            "_view_count": null,
            "_view_module": "@jupyter-widgets/base",
            "_view_module_version": "1.2.0",
            "_view_name": "StyleView",
            "bar_color": null,
            "description_width": ""
          }
        },
        "2ed201fb03e04617980597fff1d35692": {
          "model_module": "@jupyter-widgets/base",
          "model_name": "LayoutModel",
          "model_module_version": "1.2.0",
          "state": {
            "_model_module": "@jupyter-widgets/base",
            "_model_module_version": "1.2.0",
            "_model_name": "LayoutModel",
            "_view_count": null,
            "_view_module": "@jupyter-widgets/base",
            "_view_module_version": "1.2.0",
            "_view_name": "LayoutView",
            "align_content": null,
            "align_items": null,
            "align_self": null,
            "border": null,
            "bottom": null,
            "display": null,
            "flex": null,
            "flex_flow": null,
            "grid_area": null,
            "grid_auto_columns": null,
            "grid_auto_flow": null,
            "grid_auto_rows": null,
            "grid_column": null,
            "grid_gap": null,
            "grid_row": null,
            "grid_template_areas": null,
            "grid_template_columns": null,
            "grid_template_rows": null,
            "height": null,
            "justify_content": null,
            "justify_items": null,
            "left": null,
            "margin": null,
            "max_height": null,
            "max_width": null,
            "min_height": null,
            "min_width": null,
            "object_fit": null,
            "object_position": null,
            "order": null,
            "overflow": null,
            "overflow_x": null,
            "overflow_y": null,
            "padding": null,
            "right": null,
            "top": null,
            "visibility": null,
            "width": null
          }
        },
        "6b8384d74fe14fd395d27e3d2307dff3": {
          "model_module": "@jupyter-widgets/controls",
          "model_name": "DescriptionStyleModel",
          "model_module_version": "1.5.0",
          "state": {
            "_model_module": "@jupyter-widgets/controls",
            "_model_module_version": "1.5.0",
            "_model_name": "DescriptionStyleModel",
            "_view_count": null,
            "_view_module": "@jupyter-widgets/base",
            "_view_module_version": "1.2.0",
            "_view_name": "StyleView",
            "description_width": ""
          }
        }
      }
    }
  },
  "nbformat": 4,
  "nbformat_minor": 0
}