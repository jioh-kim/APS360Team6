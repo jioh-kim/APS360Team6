{
  "cells": [
    {
      "cell_type": "markdown",
      "metadata": {
        "id": "THz8nEmmRcAf"
      },
      "source": [
        "Install requirements"
      ]
    },
    {
      "cell_type": "code",
      "execution_count": 1,
      "metadata": {
        "id": "ku_YwLwCqS6w",
        "colab": {
          "base_uri": "https://localhost:8080/"
        },
        "outputId": "8ece6bfb-94b6-4127-887f-5c1f126a840e"
      },
      "outputs": [
        {
          "output_type": "stream",
          "name": "stdout",
          "text": [
            "Requirement already satisfied: tensorflow in /usr/local/lib/python3.10/dist-packages (2.14.0)\n",
            "Requirement already satisfied: tensorflow-datasets in /usr/local/lib/python3.10/dist-packages (4.9.3)\n",
            "Requirement already satisfied: librosa in /usr/local/lib/python3.10/dist-packages (0.10.1)\n",
            "Requirement already satisfied: absl-py>=1.0.0 in /usr/local/lib/python3.10/dist-packages (from tensorflow) (1.4.0)\n",
            "Requirement already satisfied: astunparse>=1.6.0 in /usr/local/lib/python3.10/dist-packages (from tensorflow) (1.6.3)\n",
            "Requirement already satisfied: flatbuffers>=23.5.26 in /usr/local/lib/python3.10/dist-packages (from tensorflow) (23.5.26)\n",
            "Requirement already satisfied: gast!=0.5.0,!=0.5.1,!=0.5.2,>=0.2.1 in /usr/local/lib/python3.10/dist-packages (from tensorflow) (0.5.4)\n",
            "Requirement already satisfied: google-pasta>=0.1.1 in /usr/local/lib/python3.10/dist-packages (from tensorflow) (0.2.0)\n",
            "Requirement already satisfied: h5py>=2.9.0 in /usr/local/lib/python3.10/dist-packages (from tensorflow) (3.9.0)\n",
            "Requirement already satisfied: libclang>=13.0.0 in /usr/local/lib/python3.10/dist-packages (from tensorflow) (16.0.6)\n",
            "Requirement already satisfied: ml-dtypes==0.2.0 in /usr/local/lib/python3.10/dist-packages (from tensorflow) (0.2.0)\n",
            "Requirement already satisfied: numpy>=1.23.5 in /usr/local/lib/python3.10/dist-packages (from tensorflow) (1.23.5)\n",
            "Requirement already satisfied: opt-einsum>=2.3.2 in /usr/local/lib/python3.10/dist-packages (from tensorflow) (3.3.0)\n",
            "Requirement already satisfied: packaging in /usr/local/lib/python3.10/dist-packages (from tensorflow) (23.2)\n",
            "Requirement already satisfied: protobuf!=4.21.0,!=4.21.1,!=4.21.2,!=4.21.3,!=4.21.4,!=4.21.5,<5.0.0dev,>=3.20.3 in /usr/local/lib/python3.10/dist-packages (from tensorflow) (3.20.3)\n",
            "Requirement already satisfied: setuptools in /usr/local/lib/python3.10/dist-packages (from tensorflow) (67.7.2)\n",
            "Requirement already satisfied: six>=1.12.0 in /usr/local/lib/python3.10/dist-packages (from tensorflow) (1.16.0)\n",
            "Requirement already satisfied: termcolor>=1.1.0 in /usr/local/lib/python3.10/dist-packages (from tensorflow) (2.3.0)\n",
            "Requirement already satisfied: typing-extensions>=3.6.6 in /usr/local/lib/python3.10/dist-packages (from tensorflow) (4.5.0)\n",
            "Requirement already satisfied: wrapt<1.15,>=1.11.0 in /usr/local/lib/python3.10/dist-packages (from tensorflow) (1.14.1)\n",
            "Requirement already satisfied: tensorflow-io-gcs-filesystem>=0.23.1 in /usr/local/lib/python3.10/dist-packages (from tensorflow) (0.34.0)\n",
            "Requirement already satisfied: grpcio<2.0,>=1.24.3 in /usr/local/lib/python3.10/dist-packages (from tensorflow) (1.59.3)\n",
            "Requirement already satisfied: tensorboard<2.15,>=2.14 in /usr/local/lib/python3.10/dist-packages (from tensorflow) (2.14.1)\n",
            "Requirement already satisfied: tensorflow-estimator<2.15,>=2.14.0 in /usr/local/lib/python3.10/dist-packages (from tensorflow) (2.14.0)\n",
            "Requirement already satisfied: keras<2.15,>=2.14.0 in /usr/local/lib/python3.10/dist-packages (from tensorflow) (2.14.0)\n",
            "Requirement already satisfied: array-record in /usr/local/lib/python3.10/dist-packages (from tensorflow-datasets) (0.5.0)\n",
            "Requirement already satisfied: click in /usr/local/lib/python3.10/dist-packages (from tensorflow-datasets) (8.1.7)\n",
            "Requirement already satisfied: dm-tree in /usr/local/lib/python3.10/dist-packages (from tensorflow-datasets) (0.1.8)\n",
            "Requirement already satisfied: etils[enp,epath,etree]>=0.9.0 in /usr/local/lib/python3.10/dist-packages (from tensorflow-datasets) (1.5.2)\n",
            "Requirement already satisfied: promise in /usr/local/lib/python3.10/dist-packages (from tensorflow-datasets) (2.3)\n",
            "Requirement already satisfied: psutil in /usr/local/lib/python3.10/dist-packages (from tensorflow-datasets) (5.9.5)\n",
            "Requirement already satisfied: requests>=2.19.0 in /usr/local/lib/python3.10/dist-packages (from tensorflow-datasets) (2.31.0)\n",
            "Requirement already satisfied: tensorflow-metadata in /usr/local/lib/python3.10/dist-packages (from tensorflow-datasets) (1.14.0)\n",
            "Requirement already satisfied: toml in /usr/local/lib/python3.10/dist-packages (from tensorflow-datasets) (0.10.2)\n",
            "Requirement already satisfied: tqdm in /usr/local/lib/python3.10/dist-packages (from tensorflow-datasets) (4.66.1)\n",
            "Requirement already satisfied: audioread>=2.1.9 in /usr/local/lib/python3.10/dist-packages (from librosa) (3.0.1)\n",
            "Requirement already satisfied: scipy>=1.2.0 in /usr/local/lib/python3.10/dist-packages (from librosa) (1.11.4)\n",
            "Requirement already satisfied: scikit-learn>=0.20.0 in /usr/local/lib/python3.10/dist-packages (from librosa) (1.2.2)\n",
            "Requirement already satisfied: joblib>=0.14 in /usr/local/lib/python3.10/dist-packages (from librosa) (1.3.2)\n",
            "Requirement already satisfied: decorator>=4.3.0 in /usr/local/lib/python3.10/dist-packages (from librosa) (4.4.2)\n",
            "Requirement already satisfied: numba>=0.51.0 in /usr/local/lib/python3.10/dist-packages (from librosa) (0.58.1)\n",
            "Requirement already satisfied: soundfile>=0.12.1 in /usr/local/lib/python3.10/dist-packages (from librosa) (0.12.1)\n",
            "Requirement already satisfied: pooch>=1.0 in /usr/local/lib/python3.10/dist-packages (from librosa) (1.8.0)\n",
            "Requirement already satisfied: soxr>=0.3.2 in /usr/local/lib/python3.10/dist-packages (from librosa) (0.3.7)\n",
            "Requirement already satisfied: lazy-loader>=0.1 in /usr/local/lib/python3.10/dist-packages (from librosa) (0.3)\n",
            "Requirement already satisfied: msgpack>=1.0 in /usr/local/lib/python3.10/dist-packages (from librosa) (1.0.7)\n",
            "Requirement already satisfied: wheel<1.0,>=0.23.0 in /usr/local/lib/python3.10/dist-packages (from astunparse>=1.6.0->tensorflow) (0.42.0)\n",
            "Requirement already satisfied: fsspec in /usr/local/lib/python3.10/dist-packages (from etils[enp,epath,etree]>=0.9.0->tensorflow-datasets) (2023.6.0)\n",
            "Requirement already satisfied: importlib_resources in /usr/local/lib/python3.10/dist-packages (from etils[enp,epath,etree]>=0.9.0->tensorflow-datasets) (6.1.1)\n",
            "Requirement already satisfied: zipp in /usr/local/lib/python3.10/dist-packages (from etils[enp,epath,etree]>=0.9.0->tensorflow-datasets) (3.17.0)\n",
            "Requirement already satisfied: llvmlite<0.42,>=0.41.0dev0 in /usr/local/lib/python3.10/dist-packages (from numba>=0.51.0->librosa) (0.41.1)\n",
            "Requirement already satisfied: platformdirs>=2.5.0 in /usr/local/lib/python3.10/dist-packages (from pooch>=1.0->librosa) (4.0.0)\n",
            "Requirement already satisfied: charset-normalizer<4,>=2 in /usr/local/lib/python3.10/dist-packages (from requests>=2.19.0->tensorflow-datasets) (3.3.2)\n",
            "Requirement already satisfied: idna<4,>=2.5 in /usr/local/lib/python3.10/dist-packages (from requests>=2.19.0->tensorflow-datasets) (3.6)\n",
            "Requirement already satisfied: urllib3<3,>=1.21.1 in /usr/local/lib/python3.10/dist-packages (from requests>=2.19.0->tensorflow-datasets) (2.0.7)\n",
            "Requirement already satisfied: certifi>=2017.4.17 in /usr/local/lib/python3.10/dist-packages (from requests>=2.19.0->tensorflow-datasets) (2023.11.17)\n",
            "Requirement already satisfied: threadpoolctl>=2.0.0 in /usr/local/lib/python3.10/dist-packages (from scikit-learn>=0.20.0->librosa) (3.2.0)\n",
            "Requirement already satisfied: cffi>=1.0 in /usr/local/lib/python3.10/dist-packages (from soundfile>=0.12.1->librosa) (1.16.0)\n",
            "Requirement already satisfied: google-auth<3,>=1.6.3 in /usr/local/lib/python3.10/dist-packages (from tensorboard<2.15,>=2.14->tensorflow) (2.17.3)\n",
            "Requirement already satisfied: google-auth-oauthlib<1.1,>=0.5 in /usr/local/lib/python3.10/dist-packages (from tensorboard<2.15,>=2.14->tensorflow) (1.0.0)\n",
            "Requirement already satisfied: markdown>=2.6.8 in /usr/local/lib/python3.10/dist-packages (from tensorboard<2.15,>=2.14->tensorflow) (3.5.1)\n",
            "Requirement already satisfied: tensorboard-data-server<0.8.0,>=0.7.0 in /usr/local/lib/python3.10/dist-packages (from tensorboard<2.15,>=2.14->tensorflow) (0.7.2)\n",
            "Requirement already satisfied: werkzeug>=1.0.1 in /usr/local/lib/python3.10/dist-packages (from tensorboard<2.15,>=2.14->tensorflow) (3.0.1)\n",
            "Requirement already satisfied: googleapis-common-protos<2,>=1.52.0 in /usr/local/lib/python3.10/dist-packages (from tensorflow-metadata->tensorflow-datasets) (1.61.0)\n",
            "Requirement already satisfied: pycparser in /usr/local/lib/python3.10/dist-packages (from cffi>=1.0->soundfile>=0.12.1->librosa) (2.21)\n",
            "Requirement already satisfied: cachetools<6.0,>=2.0.0 in /usr/local/lib/python3.10/dist-packages (from google-auth<3,>=1.6.3->tensorboard<2.15,>=2.14->tensorflow) (5.3.2)\n",
            "Requirement already satisfied: pyasn1-modules>=0.2.1 in /usr/local/lib/python3.10/dist-packages (from google-auth<3,>=1.6.3->tensorboard<2.15,>=2.14->tensorflow) (0.3.0)\n",
            "Requirement already satisfied: rsa<5,>=3.1.4 in /usr/local/lib/python3.10/dist-packages (from google-auth<3,>=1.6.3->tensorboard<2.15,>=2.14->tensorflow) (4.9)\n",
            "Requirement already satisfied: requests-oauthlib>=0.7.0 in /usr/local/lib/python3.10/dist-packages (from google-auth-oauthlib<1.1,>=0.5->tensorboard<2.15,>=2.14->tensorflow) (1.3.1)\n",
            "Requirement already satisfied: MarkupSafe>=2.1.1 in /usr/local/lib/python3.10/dist-packages (from werkzeug>=1.0.1->tensorboard<2.15,>=2.14->tensorflow) (2.1.3)\n",
            "Requirement already satisfied: pyasn1<0.6.0,>=0.4.6 in /usr/local/lib/python3.10/dist-packages (from pyasn1-modules>=0.2.1->google-auth<3,>=1.6.3->tensorboard<2.15,>=2.14->tensorflow) (0.5.1)\n",
            "Requirement already satisfied: oauthlib>=3.0.0 in /usr/local/lib/python3.10/dist-packages (from requests-oauthlib>=0.7.0->google-auth-oauthlib<1.1,>=0.5->tensorboard<2.15,>=2.14->tensorflow) (3.2.2)\n"
          ]
        }
      ],
      "source": [
        "!pip install tensorflow tensorflow-datasets librosa"
      ]
    },
    {
      "cell_type": "markdown",
      "metadata": {
        "id": "xfEwnLErRel8"
      },
      "source": [
        "Import libraries"
      ]
    },
    {
      "cell_type": "code",
      "source": [
        "import tensorflow as tf\n",
        "from tensorflow import keras\n",
        "import tensorflow_datasets as tfds\n",
        "import librosa\n",
        "import numpy as np"
      ],
      "metadata": {
        "id": "WGHxbh4YE-ot"
      },
      "execution_count": 2,
      "outputs": []
    },
    {
      "cell_type": "markdown",
      "metadata": {
        "id": "JZAVKWS5R1_J"
      },
      "source": [
        "Only grab the dataset where instument == keyboard"
      ]
    },
    {
      "cell_type": "code",
      "source": [
        "# Constants\n",
        "KEYBOARD_FAMILY_LABEL = 4 # According to NSynth dataset family label\n",
        "SAMPLE_RATE = 16000\n",
        "TRIM_LENGTH = 3 * SAMPLE_RATE  # Trim to the first 3 seconds\n",
        "\n",
        "def process_data(example):\n",
        "    audio = example['audio']\n",
        "    instrument_family = example['instrument']['family']\n",
        "    pitch = example['pitch']\n",
        "\n",
        "    is_keyboard = tf.equal(instrument_family, KEYBOARD_FAMILY_LABEL)\n",
        "\n",
        "    def process_keyboard_sample(audio, pitch):\n",
        "        audio = audio[:TRIM_LENGTH]\n",
        "        if pitch < 21:\n",
        "            # Instead of returning None, return a marker (e.g., a zero-length tensor)\n",
        "            return tf.zeros((0,)), tf.constant(-1, dtype=tf.int64)\n",
        "        else:\n",
        "            pitch = pitch - 21\n",
        "            return audio, pitch\n",
        "\n",
        "    return tf.cond(is_keyboard, lambda: process_keyboard_sample(audio, pitch), lambda: (audio, pitch))\n",
        "\n",
        "def filter_keyboard_samples(example):\n",
        "    return tf.equal(example['instrument']['family'], KEYBOARD_FAMILY_LABEL)\n",
        "\n",
        "def filter_invalid_samples(audio, pitch):\n",
        "    # Check if the sample is valid (not marked for removal)\n",
        "    return tf.size(audio) > 0 and tf.not_equal(pitch, -1)\n",
        "\n",
        "def get_data_loader(data_split, batch_size=64, num_batches=None):\n",
        "    ds = tfds.load('nsynth', split=data_split, as_supervised=False)\n",
        "\n",
        "    ds = ds.filter(filter_keyboard_samples)\n",
        "    ds = ds.map(process_data, num_parallel_calls=tf.data.AUTOTUNE)\n",
        "    ds = ds.filter(filter_invalid_samples)\n",
        "    ds = ds.batch(batch_size)\n",
        "    if num_batches:\n",
        "        ds = ds.take(num_batches)\n",
        "    ds = ds.prefetch(tf.data.experimental.AUTOTUNE)\n",
        "\n",
        "    return ds"
      ],
      "metadata": {
        "id": "RKOifdhZeOT-"
      },
      "execution_count": 3,
      "outputs": []
    },
    {
      "cell_type": "code",
      "source": [
        "# Input to model\n",
        "batch_size = 32\n",
        "train_loader = get_data_loader('train', batch_size, num_batches=80)\n",
        "val_loader = get_data_loader('valid', batch_size, num_batches=10)\n",
        "test_loader = get_data_loader('test', batch_size, num_batches=10)\n",
        "classes = list(range(88))\n",
        "\n",
        "for audio, pitch in train_loader.take(5):\n",
        "    print(pitch)"
      ],
      "metadata": {
        "id": "8qV0GWm8gC0r",
        "colab": {
          "base_uri": "https://localhost:8080/",
          "height": 379,
          "referenced_widgets": [
            "fff682b1eb1b45daba842cef40ad96bb",
            "29113df2d34247f1b985fd7bf5740b8e",
            "f2ff789335284f1fb829e40301960045",
            "e5e76ee1081d4955b73ce61703e79e67",
            "05ec647ac8fd4a5f97df919c073689d6",
            "ee26f101b6b94f5d987ca3dbe3d92760",
            "8c1d6423cfb24fc99368d5db38bb1519",
            "de6863c279af48b0a890476b9f646560",
            "cb91c010b19c4248ad3eb7f46878ec11",
            "ff200251d921428bbeba1b8618ec64f0",
            "6a7b48bc1235467e9639057f05fa64ff"
          ]
        },
        "outputId": "38d18018-f934-4884-b3b9-7c6b8e688d2f"
      },
      "execution_count": 4,
      "outputs": [
        {
          "output_type": "stream",
          "name": "stderr",
          "text": [
            "WARNING:absl:You use TensorFlow DType <dtype: 'string'> in tfds.features This will soon be deprecated in favor of NumPy DTypes. In the meantime it was converted to object.\n",
            "WARNING:absl:You use TensorFlow DType <dtype: 'bool'> in tfds.features This will soon be deprecated in favor of NumPy DTypes. In the meantime it was converted to bool.\n"
          ]
        },
        {
          "output_type": "stream",
          "name": "stdout",
          "text": [
            "Downloading and preparing dataset 73.07 GiB (download: 73.07 GiB, generated: 73.09 GiB, total: 146.16 GiB) to /root/tensorflow_datasets/nsynth/full/2.3.3...\n"
          ]
        },
        {
          "output_type": "display_data",
          "data": {
            "text/plain": [
              "Dl Completed...:   0%|          | 0/1069 [00:00<?, ? file/s]"
            ],
            "application/vnd.jupyter.widget-view+json": {
              "version_major": 2,
              "version_minor": 0,
              "model_id": "fff682b1eb1b45daba842cef40ad96bb"
            }
          },
          "metadata": {}
        },
        {
          "output_type": "stream",
          "name": "stdout",
          "text": [
            "Dataset nsynth downloaded and prepared to /root/tensorflow_datasets/nsynth/full/2.3.3. Subsequent calls will reuse this data.\n",
            "tf.Tensor(\n",
            "[85 10 60 33 48 84 21 54 13 33  0  6 49 52 56 17  4 74  6 40 63 20 44 41\n",
            "  7 22 67 64  8 78 16 48], shape=(32,), dtype=int64)\n",
            "tf.Tensor(\n",
            "[14 29 87 32 70 84 65 66 30 56 28 85 47 33 24 49 81 18 21 51 34 61 36  8\n",
            " 10 45 61 70 74 33 57 52], shape=(32,), dtype=int64)\n",
            "tf.Tensor(\n",
            "[42 16 62 72 38 63 72 58 35 40 68 67 22  3 47 57 68 77 50 28 45 46 33 65\n",
            " 30 22 10 74  5 16 81 52], shape=(32,), dtype=int64)\n",
            "tf.Tensor(\n",
            "[70 27 58 49 17 14 52 19 19 84 15 86 67 16 11 65 25 55 53 15 24 72 73 51\n",
            " 37  6 76 24 72 13 25 41], shape=(32,), dtype=int64)\n",
            "tf.Tensor(\n",
            "[79 31 60 45 83 38 28 25 56  9 38 43 52 86 25 57 16 27 25 25 21 76 59 43\n",
            " 46 64 43 13 85 26  7 36], shape=(32,), dtype=int64)\n"
          ]
        }
      ]
    },
    {
      "cell_type": "code",
      "execution_count": 5,
      "metadata": {
        "id": "8IGad4g33Vwh",
        "colab": {
          "base_uri": "https://localhost:8080/"
        },
        "outputId": "5af96444-7ae8-4273-d305-3085b28a0ea4"
      },
      "outputs": [
        {
          "output_type": "stream",
          "name": "stdout",
          "text": [
            "First sample audio max value: 0.46275418996810913\n",
            "First sample audio min value: -0.46886491775512695\n",
            "First sample audio range: 0.9316191077232361\n",
            "First sample pitch: 85\n"
          ]
        }
      ],
      "source": [
        "# printing a sample audio and pitch value\n",
        "for audio, pitch in train_loader.take(1):\n",
        "    first_sample_audio = audio[0]\n",
        "    first_sample_pitch = pitch[0]\n",
        "\n",
        "    # Calculate the maximum and minimum values\n",
        "    max_value = tf.reduce_max(first_sample_audio)\n",
        "    min_value = tf.reduce_min(first_sample_audio)\n",
        "\n",
        "    # Calculate the range (max - min)\n",
        "    range_value = max_value - min_value\n",
        "\n",
        "    print(f\"First sample audio max value: {max_value.numpy()}\")\n",
        "    print(f\"First sample audio min value: {min_value.numpy()}\")\n",
        "    print(f\"First sample audio range: {range_value.numpy()}\")\n",
        "    print(f\"First sample pitch: {first_sample_pitch.numpy()}\")"
      ]
    },
    {
      "cell_type": "code",
      "source": [
        "for audio, pitch in train_loader:\n",
        "  print(audio.shape)\n",
        "  print(pitch.shape)\n",
        "  break\n"
      ],
      "metadata": {
        "colab": {
          "base_uri": "https://localhost:8080/"
        },
        "id": "vLg7K5F4Mw6R",
        "outputId": "a58318ab-c11f-4c90-d27b-713ad2721b32"
      },
      "execution_count": 6,
      "outputs": [
        {
          "output_type": "stream",
          "name": "stdout",
          "text": [
            "(32, 48000)\n",
            "(32,)\n"
          ]
        }
      ]
    },
    {
      "cell_type": "code",
      "source": [
        "# get number of batches in each loader\n",
        "def get_dataset_length(data_loader):\n",
        "    length = 0\n",
        "    for _ in data_loader:\n",
        "        length += 1\n",
        "    return length\n",
        "\n",
        "# Use this function to get the length of your data loaders\n",
        "test_loader_length = get_dataset_length(test_loader)\n",
        "val_loader_length = get_dataset_length(val_loader)\n",
        "train_loader_length = get_dataset_length(train_loader)\n",
        "\n",
        "print(f\"Train loader length: {train_loader_length}\")\n",
        "print(f\"Validation loader length: {val_loader_length}\")\n",
        "print(f\"Test loader length: {test_loader_length}\")"
      ],
      "metadata": {
        "colab": {
          "base_uri": "https://localhost:8080/"
        },
        "id": "mtGkBcScNX6O",
        "outputId": "719d7e7f-5d7f-45dd-92b5-19059da982cf"
      },
      "execution_count": 7,
      "outputs": [
        {
          "output_type": "stream",
          "name": "stdout",
          "text": [
            "Train loader length: 80\n",
            "Validation loader length: 10\n",
            "Test loader length: 10\n"
          ]
        }
      ]
    },
    {
      "cell_type": "code",
      "source": [
        "# get number of samples in each loader\n",
        "def get_dataset_sample_count(data_loader):\n",
        "    total_samples = 0\n",
        "    for audio, pitch in data_loader:\n",
        "        # Count the number of samples in each batch\n",
        "        batch_samples = tf.shape(audio)[0]  # assuming audio is a 2D tensor [batch_size, features]\n",
        "        total_samples += batch_samples\n",
        "    return total_samples\n",
        "\n",
        "# Use this function to get the number of samples in your data loaders\n",
        "test_samples_count = get_dataset_sample_count(test_loader)\n",
        "val_samples_count = get_dataset_sample_count(val_loader)\n",
        "train_samples_count = get_dataset_sample_count(train_loader)\n",
        "\n",
        "print(f\"Train loader samples: {train_samples_count}\")\n",
        "print(f\"Validation loader samples: {val_samples_count}\")\n",
        "print(f\"Test loader samples: {test_samples_count}\")"
      ],
      "metadata": {
        "colab": {
          "base_uri": "https://localhost:8080/"
        },
        "id": "zOqZSyzqZOqp",
        "outputId": "bae91817-36cd-4a53-c198-9f5750435095"
      },
      "execution_count": 8,
      "outputs": [
        {
          "output_type": "stream",
          "name": "stdout",
          "text": [
            "Train loader samples: 2560\n",
            "Validation loader samples: 320\n",
            "Test loader samples: 320\n"
          ]
        }
      ]
    },
    {
      "cell_type": "code",
      "source": [
        "################################################################################################################################################################\n",
        "####################################################################### Model and Training #####################################################################\n",
        "################################################################################################################################################################"
      ],
      "metadata": {
        "id": "NugixcBbTB0J"
      },
      "execution_count": null,
      "outputs": []
    },
    {
      "cell_type": "code",
      "source": [
        "import torch.nn as nn\n",
        "import torch.nn.functional as F\n",
        "import torch.optim as optim\n",
        "import torch\n",
        "\n",
        "torch.manual_seed(10)"
      ],
      "metadata": {
        "id": "K93FP75yTTES",
        "colab": {
          "base_uri": "https://localhost:8080/"
        },
        "outputId": "299eaa4a-0b76-430a-f729-31f5c963d985"
      },
      "execution_count": 9,
      "outputs": [
        {
          "output_type": "execute_result",
          "data": {
            "text/plain": [
              "<torch._C.Generator at 0x7bfca82845d0>"
            ]
          },
          "metadata": {},
          "execution_count": 9
        }
      ]
    },
    {
      "cell_type": "code",
      "source": [
        "for audio, pitch in train_loader.take(1):\n",
        "  print(f\"Audio shape: {audio.shape}\")"
      ],
      "metadata": {
        "colab": {
          "base_uri": "https://localhost:8080/"
        },
        "id": "nWXjA-_1Vn1x",
        "outputId": "2fedc7d6-0a53-49e5-da68-557021b60e54"
      },
      "execution_count": 10,
      "outputs": [
        {
          "output_type": "stream",
          "name": "stdout",
          "text": [
            "Audio shape: (32, 48000)\n"
          ]
        }
      ]
    },
    {
      "cell_type": "code",
      "source": [
        "from keras import layers, models"
      ],
      "metadata": {
        "id": "o5NaUzFYmPvs"
      },
      "execution_count": 11,
      "outputs": []
    },
    {
      "cell_type": "code",
      "source": [
        "class PitchDetectionModel(tf.keras.Model):\n",
        "    def __init__(self):\n",
        "        super(PitchDetectionModel, self).__init__()\n",
        "        self.reshape = layers.Reshape((48000, 1))\n",
        "        self.conv1 = layers.Conv1D(1024, kernel_size=4, strides=4, activation='relu')\n",
        "        self.drop1 = layers.Dropout(0.2)  # Dropout layer after conv1\n",
        "        self.conv2 = layers.Conv1D(128, kernel_size=4, strides=4, activation='relu')\n",
        "        self.drop2 = layers.Dropout(0.2)  # Dropout layer after conv4\n",
        "        self.conv3 = layers.Conv1D(128, kernel_size=4, strides=4, activation='relu')\n",
        "        self.drop3 = layers.Dropout(0.5)  # Dropout layer after conv4\n",
        "        self.conv4 = layers.Conv1D(256, kernel_size=2, strides=2, activation='relu')\n",
        "        self.drop4 = layers.Dropout(0.5)  # Dropout layer after conv4\n",
        "        self.pool = layers.MaxPooling1D(2)\n",
        "        self.flatten = layers.Flatten()\n",
        "        self.fc1 = layers.Dense(88)\n",
        "\n",
        "    def call(self, x, training=False):\n",
        "        x = self.reshape(x)\n",
        "        x = self.conv1(x)\n",
        "        x = self.pool(x)\n",
        "        x = self.drop1(x, training=training)  # Apply dropout only during training\n",
        "        x = self.conv2(x)\n",
        "        x = self.pool(x)\n",
        "        x = self.drop2(x, training=training)\n",
        "        x = self.conv3(x)\n",
        "        x = self.pool(x)\n",
        "        x = self.drop3(x, training=training)\n",
        "        x = self.conv4(x)\n",
        "        x = self.pool(x)\n",
        "        x = self.drop4(x, training=training)\n",
        "        x = self.flatten(x)\n",
        "        return self.fc1(x)\n"
      ],
      "metadata": {
        "id": "XpSbOEJhxvwW"
      },
      "execution_count": 12,
      "outputs": []
    },
    {
      "cell_type": "code",
      "source": [
        "# Create an instance of the model\n",
        "model = PitchDetectionModel()\n",
        "\n",
        "# Compile the model\n",
        "model.compile(\n",
        "    optimizer=keras.optimizers.Adam(0.001),  # Optimizer\n",
        "    # Loss function to minimize\n",
        "    loss=keras.losses.SparseCategoricalCrossentropy(from_logits=True),\n",
        "    # List of metrics to monitor\n",
        "    metrics=[keras.metrics.SparseCategoricalAccuracy()],\n",
        ")\n",
        "\n",
        "print(\"Fit model on training data\")\n",
        "history = model.fit(\n",
        "  x=train_loader,\n",
        "  epochs=35,\n",
        "  verbose=1,\n",
        "  validation_data=val_loader\n",
        ")\n",
        "\n",
        "import matplotlib.pyplot as plt\n",
        "\n",
        "training_accuracy = history.history['sparse_categorical_accuracy']\n",
        "validation_accuracy = history.history['val_sparse_categorical_accuracy']\n",
        "\n",
        "epochs = range(1, len(training_accuracy) + 1)\n",
        "\n",
        "# Plotting the accuracy graph\n",
        "plt.figure(figsize=(12, 6))\n",
        "plt.plot(epochs, training_accuracy, label='Training Accuracy')\n",
        "plt.plot(epochs, validation_accuracy, label='Validation Accuracy')\n",
        "plt.title('Training and Validation Accuracy')\n",
        "plt.xlabel('Epochs')\n",
        "plt.ylabel('Accuracy')\n",
        "plt.legend()\n",
        "plt.show()\n"
      ],
      "metadata": {
        "colab": {
          "base_uri": "https://localhost:8080/",
          "height": 1000
        },
        "id": "vM4TAKEGLrh1",
        "outputId": "4e2844bc-161f-4535-ccbc-cc4c2b000a7c"
      },
      "execution_count": 13,
      "outputs": [
        {
          "output_type": "stream",
          "name": "stdout",
          "text": [
            "Fit model on training data\n",
            "Epoch 1/35\n",
            "80/80 [==============================] - 21s 108ms/step - loss: 4.3896 - sparse_categorical_accuracy: 0.0133 - val_loss: 4.1630 - val_sparse_categorical_accuracy: 0.0312\n",
            "Epoch 2/35\n",
            "80/80 [==============================] - 8s 105ms/step - loss: 3.9890 - sparse_categorical_accuracy: 0.0387 - val_loss: 3.6394 - val_sparse_categorical_accuracy: 0.0719\n",
            "Epoch 3/35\n",
            "80/80 [==============================] - 8s 104ms/step - loss: 3.5450 - sparse_categorical_accuracy: 0.0840 - val_loss: 3.2267 - val_sparse_categorical_accuracy: 0.1562\n",
            "Epoch 4/35\n",
            "80/80 [==============================] - 8s 104ms/step - loss: 3.0615 - sparse_categorical_accuracy: 0.1930 - val_loss: 2.7214 - val_sparse_categorical_accuracy: 0.3281\n",
            "Epoch 5/35\n",
            "80/80 [==============================] - 8s 104ms/step - loss: 2.5589 - sparse_categorical_accuracy: 0.3164 - val_loss: 2.3908 - val_sparse_categorical_accuracy: 0.4062\n",
            "Epoch 6/35\n",
            "80/80 [==============================] - 8s 104ms/step - loss: 2.1018 - sparse_categorical_accuracy: 0.4320 - val_loss: 2.0975 - val_sparse_categorical_accuracy: 0.4812\n",
            "Epoch 7/35\n",
            "80/80 [==============================] - 8s 104ms/step - loss: 1.8298 - sparse_categorical_accuracy: 0.5121 - val_loss: 1.8416 - val_sparse_categorical_accuracy: 0.5969\n",
            "Epoch 8/35\n",
            "80/80 [==============================] - 8s 104ms/step - loss: 1.5416 - sparse_categorical_accuracy: 0.5824 - val_loss: 1.7403 - val_sparse_categorical_accuracy: 0.5875\n",
            "Epoch 9/35\n",
            "80/80 [==============================] - 8s 104ms/step - loss: 1.3342 - sparse_categorical_accuracy: 0.6316 - val_loss: 1.6722 - val_sparse_categorical_accuracy: 0.6156\n",
            "Epoch 10/35\n",
            "80/80 [==============================] - 9s 105ms/step - loss: 1.1623 - sparse_categorical_accuracy: 0.6902 - val_loss: 1.6082 - val_sparse_categorical_accuracy: 0.6406\n",
            "Epoch 11/35\n",
            "80/80 [==============================] - 9s 105ms/step - loss: 1.0542 - sparse_categorical_accuracy: 0.7102 - val_loss: 1.5186 - val_sparse_categorical_accuracy: 0.6625\n",
            "Epoch 12/35\n",
            "80/80 [==============================] - 8s 105ms/step - loss: 0.9115 - sparse_categorical_accuracy: 0.7465 - val_loss: 1.5868 - val_sparse_categorical_accuracy: 0.6687\n",
            "Epoch 13/35\n",
            "80/80 [==============================] - 8s 105ms/step - loss: 0.8712 - sparse_categorical_accuracy: 0.7625 - val_loss: 1.5326 - val_sparse_categorical_accuracy: 0.6844\n",
            "Epoch 14/35\n",
            "80/80 [==============================] - 8s 104ms/step - loss: 0.8231 - sparse_categorical_accuracy: 0.7742 - val_loss: 1.4839 - val_sparse_categorical_accuracy: 0.7031\n",
            "Epoch 15/35\n",
            "80/80 [==============================] - 8s 104ms/step - loss: 0.7763 - sparse_categorical_accuracy: 0.7863 - val_loss: 1.3621 - val_sparse_categorical_accuracy: 0.6906\n",
            "Epoch 16/35\n",
            "80/80 [==============================] - 8s 104ms/step - loss: 0.6750 - sparse_categorical_accuracy: 0.8180 - val_loss: 1.3788 - val_sparse_categorical_accuracy: 0.7156\n",
            "Epoch 17/35\n",
            "80/80 [==============================] - 8s 104ms/step - loss: 0.6114 - sparse_categorical_accuracy: 0.8285 - val_loss: 1.3409 - val_sparse_categorical_accuracy: 0.7188\n",
            "Epoch 18/35\n",
            "80/80 [==============================] - 8s 105ms/step - loss: 0.6105 - sparse_categorical_accuracy: 0.8148 - val_loss: 1.4614 - val_sparse_categorical_accuracy: 0.7000\n",
            "Epoch 19/35\n",
            "80/80 [==============================] - 8s 104ms/step - loss: 0.5619 - sparse_categorical_accuracy: 0.8426 - val_loss: 1.4497 - val_sparse_categorical_accuracy: 0.7031\n",
            "Epoch 20/35\n",
            "80/80 [==============================] - 8s 104ms/step - loss: 0.5065 - sparse_categorical_accuracy: 0.8555 - val_loss: 1.3968 - val_sparse_categorical_accuracy: 0.7156\n",
            "Epoch 21/35\n",
            "80/80 [==============================] - 8s 105ms/step - loss: 0.4783 - sparse_categorical_accuracy: 0.8641 - val_loss: 1.3847 - val_sparse_categorical_accuracy: 0.7375\n",
            "Epoch 22/35\n",
            "80/80 [==============================] - 8s 104ms/step - loss: 0.4986 - sparse_categorical_accuracy: 0.8684 - val_loss: 1.4037 - val_sparse_categorical_accuracy: 0.7125\n",
            "Epoch 23/35\n",
            "80/80 [==============================] - 8s 104ms/step - loss: 0.4546 - sparse_categorical_accuracy: 0.8695 - val_loss: 1.4332 - val_sparse_categorical_accuracy: 0.7281\n",
            "Epoch 24/35\n",
            "80/80 [==============================] - 8s 105ms/step - loss: 0.3957 - sparse_categorical_accuracy: 0.8941 - val_loss: 1.6161 - val_sparse_categorical_accuracy: 0.7531\n",
            "Epoch 25/35\n",
            "80/80 [==============================] - 8s 104ms/step - loss: 0.4121 - sparse_categorical_accuracy: 0.8875 - val_loss: 1.5352 - val_sparse_categorical_accuracy: 0.7281\n",
            "Epoch 26/35\n",
            "80/80 [==============================] - 8s 105ms/step - loss: 0.4135 - sparse_categorical_accuracy: 0.8914 - val_loss: 1.5412 - val_sparse_categorical_accuracy: 0.7500\n",
            "Epoch 27/35\n",
            "80/80 [==============================] - 8s 105ms/step - loss: 0.4209 - sparse_categorical_accuracy: 0.8852 - val_loss: 1.4959 - val_sparse_categorical_accuracy: 0.7344\n",
            "Epoch 28/35\n",
            "80/80 [==============================] - 8s 105ms/step - loss: 0.4046 - sparse_categorical_accuracy: 0.8910 - val_loss: 1.4344 - val_sparse_categorical_accuracy: 0.7500\n",
            "Epoch 29/35\n",
            "80/80 [==============================] - 8s 105ms/step - loss: 0.3235 - sparse_categorical_accuracy: 0.9020 - val_loss: 1.4476 - val_sparse_categorical_accuracy: 0.7469\n",
            "Epoch 30/35\n",
            "80/80 [==============================] - 8s 105ms/step - loss: 0.2879 - sparse_categorical_accuracy: 0.9141 - val_loss: 1.4978 - val_sparse_categorical_accuracy: 0.7531\n",
            "Epoch 31/35\n",
            "80/80 [==============================] - 8s 105ms/step - loss: 0.3160 - sparse_categorical_accuracy: 0.9145 - val_loss: 1.5301 - val_sparse_categorical_accuracy: 0.7594\n",
            "Epoch 32/35\n",
            "80/80 [==============================] - 9s 105ms/step - loss: 0.2846 - sparse_categorical_accuracy: 0.9184 - val_loss: 1.5298 - val_sparse_categorical_accuracy: 0.7563\n",
            "Epoch 33/35\n",
            "80/80 [==============================] - 9s 105ms/step - loss: 0.3145 - sparse_categorical_accuracy: 0.9059 - val_loss: 1.5138 - val_sparse_categorical_accuracy: 0.7531\n",
            "Epoch 34/35\n",
            "80/80 [==============================] - 9s 105ms/step - loss: 0.2916 - sparse_categorical_accuracy: 0.9156 - val_loss: 1.4720 - val_sparse_categorical_accuracy: 0.7719\n",
            "Epoch 35/35\n",
            "80/80 [==============================] - 8s 105ms/step - loss: 0.3069 - sparse_categorical_accuracy: 0.9176 - val_loss: 1.3792 - val_sparse_categorical_accuracy: 0.7906\n"
          ]
        },
        {
          "output_type": "display_data",
          "data": {
            "text/plain": [
              "<Figure size 1200x600 with 1 Axes>"
            ],
            "image/png": "[encoded data removed]"
          },
          "metadata": {}
        }
      ]
    },
    {
      "cell_type": "code",
      "source": [
        "# Evaluate on test data\n",
        "test_loss, test_acc = model.evaluate(test_loader)\n",
        "print(f'Test accuracy: {test_acc}, Test loss: {test_loss}')"
      ],
      "metadata": {
        "colab": {
          "base_uri": "https://localhost:8080/"
        },
        "id": "G2zH0G8k69h0",
        "outputId": "b2913774-33f1-43a1-de99-713faa40d735"
      },
      "execution_count": 14,
      "outputs": [
        {
          "output_type": "stream",
          "name": "stdout",
          "text": [
            "10/10 [==============================] - 1s 39ms/step - loss: 2.1372 - sparse_categorical_accuracy: 0.6906\n",
            "Test accuracy: 0.690625011920929, Test loss: 2.137176990509033\n"
          ]
        }
      ]
    },
    {
      "cell_type": "code",
      "source": [
        "def qualitative_results_keras(model, data_loader, num_epochs):\n",
        "    correct_per_label = {}\n",
        "    number_of_labels = {}\n",
        "    device = \"/gpu:0\" if tf.test.is_gpu_available() else \"/cpu:0\"\n",
        "\n",
        "    with tf.device(device):\n",
        "        for epoch in range(num_epochs):\n",
        "            print('Epoch:', epoch)\n",
        "            for i, (inputs, labels) in enumerate(data_loader):\n",
        "                inputs = tf.convert_to_tensor(inputs, dtype=tf.float32)\n",
        "                labels = tf.convert_to_tensor(labels, dtype=tf.int64)\n",
        "                labels = tf.math.abs(labels)\n",
        "\n",
        "                outputs = model(inputs, training=False)\n",
        "                predicted = tf.math.argmax(outputs, axis=1)\n",
        "\n",
        "                for j in labels:\n",
        "                    j_item = j.numpy().item()\n",
        "                    if j_item not in number_of_labels:\n",
        "                        number_of_labels[j_item] = 1\n",
        "                    else:\n",
        "                        number_of_labels[j_item] += 1\n",
        "\n",
        "                for label, prediction in zip(labels, predicted):\n",
        "                    label_item = label.numpy().item()\n",
        "                    prediction_item = prediction.numpy().item()\n",
        "                    if prediction_item == label_item:\n",
        "                        correct_per_label[label_item] = correct_per_label.get(label_item, 0) + 1\n",
        "\n",
        "        print('Finished Training')\n",
        "        print(correct_per_label)\n",
        "        print(number_of_labels)\n",
        "\n",
        "        for i in number_of_labels:\n",
        "            if i not in correct_per_label:\n",
        "                correct_per_label[i] = 0\n",
        "\n",
        "        for i in correct_per_label:\n",
        "            print(\"Label\", i, \"Accuracy:\", correct_per_label[i] / float(number_of_labels[i]))"
      ],
      "metadata": {
        "id": "JY-p2CZyx3FV"
      },
      "execution_count": 15,
      "outputs": []
    },
    {
      "cell_type": "code",
      "source": [
        "qualitative_results_keras(model, train_loader, 35)"
      ],
      "metadata": {
        "colab": {
          "base_uri": "https://localhost:8080/"
        },
        "id": "L6EpmC4-x7Ml",
        "outputId": "0d061e38-72e4-42d5-d6d1-ae406e243719"
      },
      "execution_count": 16,
      "outputs": [
        {
          "output_type": "stream",
          "name": "stderr",
          "text": [
            "WARNING:tensorflow:From <ipython-input-15-7213bfd8d66f>:4: is_gpu_available (from tensorflow.python.framework.test_util) is deprecated and will be removed in a future version.\n",
            "Instructions for updating:\n",
            "Use `tf.config.list_physical_devices('GPU')` instead.\n"
          ]
        },
        {
          "output_type": "stream",
          "name": "stdout",
          "text": [
            "Epoch: 0\n",
            "Epoch: 1\n",
            "Epoch: 2\n",
            "Epoch: 3\n",
            "Epoch: 4\n",
            "Epoch: 5\n",
            "Epoch: 6\n",
            "Epoch: 7\n",
            "Epoch: 8\n",
            "Epoch: 9\n",
            "Epoch: 10\n",
            "Epoch: 11\n",
            "Epoch: 12\n",
            "Epoch: 13\n",
            "Epoch: 14\n",
            "Epoch: 15\n",
            "Epoch: 16\n",
            "Epoch: 17\n",
            "Epoch: 18\n",
            "Epoch: 19\n",
            "Epoch: 20\n",
            "Epoch: 21\n",
            "Epoch: 22\n",
            "Epoch: 23\n",
            "Epoch: 24\n",
            "Epoch: 25\n",
            "Epoch: 26\n",
            "Epoch: 27\n",
            "Epoch: 28\n",
            "Epoch: 29\n",
            "Epoch: 30\n",
            "Epoch: 31\n",
            "Epoch: 32\n",
            "Epoch: 33\n",
            "Epoch: 34\n",
            "Finished Training\n",
            "{85: 805, 10: 980, 60: 1295, 33: 1190, 48: 805, 84: 735, 21: 1190, 54: 1120, 13: 945, 0: 630, 6: 875, 49: 1155, 52: 1260, 56: 1260, 17: 1155, 4: 525, 74: 980, 40: 1015, 63: 1120, 20: 1190, 44: 1015, 41: 1015, 7: 945, 22: 1190, 67: 1225, 64: 1155, 8: 910, 78: 735, 16: 1260, 14: 1050, 29: 1295, 87: 700, 32: 1050, 70: 1015, 65: 1050, 66: 980, 30: 945, 28: 945, 47: 1155, 24: 1155, 81: 665, 18: 1015, 51: 945, 34: 875, 61: 1120, 36: 980, 45: 1190, 57: 980, 42: 980, 62: 1085, 72: 1120, 38: 1225, 58: 875, 35: 1330, 68: 1050, 3: 805, 77: 700, 50: 875, 46: 1260, 5: 595, 27: 1610, 19: 1715, 15: 875, 86: 700, 11: 1050, 25: 1365, 55: 840, 53: 1190, 73: 1190, 37: 980, 76: 805, 79: 525, 31: 805, 83: 490, 9: 735, 43: 1225, 59: 1435, 26: 945, 39: 1470, 23: 980, 2: 770, 69: 805, 71: 910, 82: 945, 12: 1050, 75: 875, 80: 665, 1: 630}\n",
            "{85: 840, 10: 980, 60: 1295, 33: 1190, 48: 840, 84: 770, 21: 1190, 54: 1120, 13: 945, 0: 630, 6: 875, 49: 1155, 52: 1260, 56: 1330, 17: 1155, 4: 525, 74: 1155, 40: 1015, 63: 1120, 20: 1190, 44: 1015, 41: 1015, 7: 945, 22: 1190, 67: 1225, 64: 1190, 8: 910, 78: 735, 16: 1260, 14: 1050, 29: 1295, 87: 735, 32: 1085, 70: 1015, 65: 1085, 66: 1050, 30: 945, 28: 945, 47: 1155, 24: 1155, 81: 665, 18: 1050, 51: 980, 34: 875, 61: 1120, 36: 980, 45: 1190, 57: 980, 42: 980, 62: 1085, 72: 1120, 38: 1225, 58: 945, 35: 1330, 68: 1050, 3: 805, 77: 735, 50: 875, 46: 1260, 5: 595, 27: 1610, 19: 1715, 15: 875, 86: 735, 11: 1085, 25: 1400, 55: 840, 53: 1190, 73: 1225, 37: 980, 76: 840, 79: 630, 31: 805, 83: 560, 9: 770, 43: 1225, 59: 1435, 26: 945, 39: 1470, 23: 1015, 2: 805, 69: 805, 71: 945, 82: 980, 12: 1050, 75: 875, 80: 700, 1: 665}\n",
            "Label 85 Accuracy: 0.9583333333333334\n",
            "Label 10 Accuracy: 1.0\n",
            "Label 60 Accuracy: 1.0\n",
            "Label 33 Accuracy: 1.0\n",
            "Label 48 Accuracy: 0.9583333333333334\n",
            "Label 84 Accuracy: 0.9545454545454546\n",
            "Label 21 Accuracy: 1.0\n",
            "Label 54 Accuracy: 1.0\n",
            "Label 13 Accuracy: 1.0\n",
            "Label 0 Accuracy: 1.0\n",
            "Label 6 Accuracy: 1.0\n",
            "Label 49 Accuracy: 1.0\n",
            "Label 52 Accuracy: 1.0\n",
            "Label 56 Accuracy: 0.9473684210526315\n",
            "Label 17 Accuracy: 1.0\n",
            "Label 4 Accuracy: 1.0\n",
            "Label 74 Accuracy: 0.8484848484848485\n",
            "Label 40 Accuracy: 1.0\n",
            "Label 63 Accuracy: 1.0\n",
            "Label 20 Accuracy: 1.0\n",
            "Label 44 Accuracy: 1.0\n",
            "Label 41 Accuracy: 1.0\n",
            "Label 7 Accuracy: 1.0\n",
            "Label 22 Accuracy: 1.0\n",
            "Label 67 Accuracy: 1.0\n",
            "Label 64 Accuracy: 0.9705882352941176\n",
            "Label 8 Accuracy: 1.0\n",
            "Label 78 Accuracy: 1.0\n",
            "Label 16 Accuracy: 1.0\n",
            "Label 14 Accuracy: 1.0\n",
            "Label 29 Accuracy: 1.0\n",
            "Label 87 Accuracy: 0.9523809523809523\n",
            "Label 32 Accuracy: 0.967741935483871\n",
            "Label 70 Accuracy: 1.0\n",
            "Label 65 Accuracy: 0.967741935483871\n",
            "Label 66 Accuracy: 0.9333333333333333\n",
            "Label 30 Accuracy: 1.0\n",
            "Label 28 Accuracy: 1.0\n",
            "Label 47 Accuracy: 1.0\n",
            "Label 24 Accuracy: 1.0\n",
            "Label 81 Accuracy: 1.0\n",
            "Label 18 Accuracy: 0.9666666666666667\n",
            "Label 51 Accuracy: 0.9642857142857143\n",
            "Label 34 Accuracy: 1.0\n",
            "Label 61 Accuracy: 1.0\n",
            "Label 36 Accuracy: 1.0\n",
            "Label 45 Accuracy: 1.0\n",
            "Label 57 Accuracy: 1.0\n",
            "Label 42 Accuracy: 1.0\n",
            "Label 62 Accuracy: 1.0\n",
            "Label 72 Accuracy: 1.0\n",
            "Label 38 Accuracy: 1.0\n",
            "Label 58 Accuracy: 0.9259259259259259\n",
            "Label 35 Accuracy: 1.0\n",
            "Label 68 Accuracy: 1.0\n",
            "Label 3 Accuracy: 1.0\n",
            "Label 77 Accuracy: 0.9523809523809523\n",
            "Label 50 Accuracy: 1.0\n",
            "Label 46 Accuracy: 1.0\n",
            "Label 5 Accuracy: 1.0\n",
            "Label 27 Accuracy: 1.0\n",
            "Label 19 Accuracy: 1.0\n",
            "Label 15 Accuracy: 1.0\n",
            "Label 86 Accuracy: 0.9523809523809523\n",
            "Label 11 Accuracy: 0.967741935483871\n",
            "Label 25 Accuracy: 0.975\n",
            "Label 55 Accuracy: 1.0\n",
            "Label 53 Accuracy: 1.0\n",
            "Label 73 Accuracy: 0.9714285714285714\n",
            "Label 37 Accuracy: 1.0\n",
            "Label 76 Accuracy: 0.9583333333333334\n",
            "Label 79 Accuracy: 0.8333333333333334\n",
            "Label 31 Accuracy: 1.0\n",
            "Label 83 Accuracy: 0.875\n",
            "Label 9 Accuracy: 0.9545454545454546\n",
            "Label 43 Accuracy: 1.0\n",
            "Label 59 Accuracy: 1.0\n",
            "Label 26 Accuracy: 1.0\n",
            "Label 39 Accuracy: 1.0\n",
            "Label 23 Accuracy: 0.9655172413793104\n",
            "Label 2 Accuracy: 0.9565217391304348\n",
            "Label 69 Accuracy: 1.0\n",
            "Label 71 Accuracy: 0.9629629629629629\n",
            "Label 82 Accuracy: 0.9642857142857143\n",
            "Label 12 Accuracy: 1.0\n",
            "Label 75 Accuracy: 1.0\n",
            "Label 80 Accuracy: 0.95\n",
            "Label 1 Accuracy: 0.9473684210526315\n"
          ]
        }
      ]
    },
    {
      "cell_type": "code",
      "source": [
        "qualitative_results_keras(model, val_loader, 35)"
      ],
      "metadata": {
        "colab": {
          "base_uri": "https://localhost:8080/"
        },
        "id": "yp38OUigx694",
        "outputId": "17ef911c-38cc-4043-80b3-5384de864b71"
      },
      "execution_count": 17,
      "outputs": [
        {
          "output_type": "stream",
          "name": "stdout",
          "text": [
            "Epoch: 0\n",
            "Epoch: 1\n",
            "Epoch: 2\n",
            "Epoch: 3\n",
            "Epoch: 4\n",
            "Epoch: 5\n",
            "Epoch: 6\n",
            "Epoch: 7\n",
            "Epoch: 8\n",
            "Epoch: 9\n",
            "Epoch: 10\n",
            "Epoch: 11\n",
            "Epoch: 12\n",
            "Epoch: 13\n",
            "Epoch: 14\n",
            "Epoch: 15\n",
            "Epoch: 16\n",
            "Epoch: 17\n",
            "Epoch: 18\n",
            "Epoch: 19\n",
            "Epoch: 20\n",
            "Epoch: 21\n",
            "Epoch: 22\n",
            "Epoch: 23\n",
            "Epoch: 24\n",
            "Epoch: 25\n",
            "Epoch: 26\n",
            "Epoch: 27\n",
            "Epoch: 28\n",
            "Epoch: 29\n",
            "Epoch: 30\n",
            "Epoch: 31\n",
            "Epoch: 32\n",
            "Epoch: 33\n",
            "Epoch: 34\n",
            "Finished Training\n",
            "{35: 35, 39: 210, 10: 70, 63: 140, 27: 140, 71: 105, 46: 245, 85: 35, 26: 70, 13: 140, 56: 140, 2: 70, 45: 105, 31: 105, 38: 105, 66: 175, 25: 140, 68: 175, 69: 105, 37: 140, 55: 210, 32: 245, 81: 140, 24: 175, 49: 35, 29: 105, 61: 140, 50: 140, 51: 105, 53: 140, 52: 175, 76: 175, 23: 210, 15: 35, 14: 35, 83: 35, 20: 70, 36: 140, 33: 175, 34: 175, 16: 140, 3: 140, 62: 315, 43: 315, 65: 140, 60: 105, 44: 105, 79: 105, 18: 70, 73: 140, 30: 140, 77: 70, 75: 210, 59: 105, 47: 175, 82: 70, 17: 105, 54: 105, 22: 70, 19: 70, 5: 105, 42: 35, 28: 70, 48: 70, 80: 35, 64: 35, 67: 35, 70: 70, 21: 140, 7: 35, 40: 70, 57: 105, 41: 35, 58: 35, 74: 35, 86: 35, 11: 35, 72: 35, 1: 35}\n",
            "{35: 35, 39: 210, 10: 140, 63: 140, 27: 140, 71: 175, 65: 210, 46: 245, 85: 35, 26: 70, 13: 140, 21: 175, 56: 175, 68: 210, 2: 105, 45: 105, 31: 140, 38: 105, 66: 245, 37: 175, 25: 210, 69: 105, 55: 315, 84: 35, 32: 245, 11: 105, 81: 210, 24: 210, 49: 35, 29: 105, 9: 175, 61: 175, 50: 140, 51: 105, 70: 105, 53: 140, 52: 210, 76: 245, 23: 210, 15: 70, 14: 105, 83: 35, 20: 105, 60: 140, 36: 175, 33: 175, 34: 210, 16: 140, 3: 175, 62: 315, 78: 70, 43: 315, 22: 210, 44: 105, 79: 105, 19: 105, 18: 105, 73: 140, 30: 140, 77: 70, 75: 210, 86: 70, 59: 105, 47: 175, 82: 70, 17: 105, 54: 105, 5: 105, 42: 70, 28: 70, 74: 175, 48: 70, 80: 70, 64: 35, 67: 35, 7: 70, 12: 105, 4: 35, 40: 70, 57: 105, 41: 35, 6: 35, 1: 105, 0: 35, 58: 35, 72: 35}\n",
            "Label 35 Accuracy: 1.0\n",
            "Label 39 Accuracy: 1.0\n",
            "Label 10 Accuracy: 0.5\n",
            "Label 63 Accuracy: 1.0\n",
            "Label 27 Accuracy: 1.0\n",
            "Label 71 Accuracy: 0.6\n",
            "Label 46 Accuracy: 1.0\n",
            "Label 85 Accuracy: 1.0\n",
            "Label 26 Accuracy: 1.0\n",
            "Label 13 Accuracy: 1.0\n",
            "Label 56 Accuracy: 0.8\n",
            "Label 2 Accuracy: 0.6666666666666666\n",
            "Label 45 Accuracy: 1.0\n",
            "Label 31 Accuracy: 0.75\n",
            "Label 38 Accuracy: 1.0\n",
            "Label 66 Accuracy: 0.7142857142857143\n",
            "Label 25 Accuracy: 0.6666666666666666\n",
            "Label 68 Accuracy: 0.8333333333333334\n",
            "Label 69 Accuracy: 1.0\n",
            "Label 37 Accuracy: 0.8\n",
            "Label 55 Accuracy: 0.6666666666666666\n",
            "Label 32 Accuracy: 1.0\n",
            "Label 81 Accuracy: 0.6666666666666666\n",
            "Label 24 Accuracy: 0.8333333333333334\n",
            "Label 49 Accuracy: 1.0\n",
            "Label 29 Accuracy: 1.0\n",
            "Label 61 Accuracy: 0.8\n",
            "Label 50 Accuracy: 1.0\n",
            "Label 51 Accuracy: 1.0\n",
            "Label 53 Accuracy: 1.0\n",
            "Label 52 Accuracy: 0.8333333333333334\n",
            "Label 76 Accuracy: 0.7142857142857143\n",
            "Label 23 Accuracy: 1.0\n",
            "Label 15 Accuracy: 0.5\n",
            "Label 14 Accuracy: 0.3333333333333333\n",
            "Label 83 Accuracy: 1.0\n",
            "Label 20 Accuracy: 0.6666666666666666\n",
            "Label 36 Accuracy: 0.8\n",
            "Label 33 Accuracy: 1.0\n",
            "Label 34 Accuracy: 0.8333333333333334\n",
            "Label 16 Accuracy: 1.0\n",
            "Label 3 Accuracy: 0.8\n",
            "Label 62 Accuracy: 1.0\n",
            "Label 43 Accuracy: 1.0\n",
            "Label 65 Accuracy: 0.6666666666666666\n",
            "Label 60 Accuracy: 0.75\n",
            "Label 44 Accuracy: 1.0\n",
            "Label 79 Accuracy: 1.0\n",
            "Label 18 Accuracy: 0.6666666666666666\n",
            "Label 73 Accuracy: 1.0\n",
            "Label 30 Accuracy: 1.0\n",
            "Label 77 Accuracy: 1.0\n",
            "Label 75 Accuracy: 1.0\n",
            "Label 59 Accuracy: 1.0\n",
            "Label 47 Accuracy: 1.0\n",
            "Label 82 Accuracy: 1.0\n",
            "Label 17 Accuracy: 1.0\n",
            "Label 54 Accuracy: 1.0\n",
            "Label 22 Accuracy: 0.3333333333333333\n",
            "Label 19 Accuracy: 0.6666666666666666\n",
            "Label 5 Accuracy: 1.0\n",
            "Label 42 Accuracy: 0.5\n",
            "Label 28 Accuracy: 1.0\n",
            "Label 48 Accuracy: 1.0\n",
            "Label 80 Accuracy: 0.5\n",
            "Label 64 Accuracy: 1.0\n",
            "Label 67 Accuracy: 1.0\n",
            "Label 70 Accuracy: 0.6666666666666666\n",
            "Label 21 Accuracy: 0.8\n",
            "Label 7 Accuracy: 0.5\n",
            "Label 40 Accuracy: 1.0\n",
            "Label 57 Accuracy: 1.0\n",
            "Label 41 Accuracy: 1.0\n",
            "Label 58 Accuracy: 1.0\n",
            "Label 74 Accuracy: 0.2\n",
            "Label 86 Accuracy: 0.5\n",
            "Label 11 Accuracy: 0.3333333333333333\n",
            "Label 72 Accuracy: 1.0\n",
            "Label 1 Accuracy: 0.3333333333333333\n",
            "Label 84 Accuracy: 0.0\n",
            "Label 9 Accuracy: 0.0\n",
            "Label 78 Accuracy: 0.0\n",
            "Label 12 Accuracy: 0.0\n",
            "Label 4 Accuracy: 0.0\n",
            "Label 6 Accuracy: 0.0\n",
            "Label 0 Accuracy: 0.0\n"
          ]
        }
      ]
    }
  ],
  "metadata": {
    "accelerator": "GPU",
    "colab": {
      "machine_shape": "hm",
      "provenance": [],
      "gpuType": "V100"
    },
    "kernelspec": {
      "display_name": "Python 3",
      "name": "python3"
    },
    "language_info": {
      "name": "python"
    },
    "widgets": {
      "application/vnd.jupyter.widget-state+json": {
        "fff682b1eb1b45daba842cef40ad96bb": {
          "model_module": "@jupyter-widgets/controls",
          "model_name": "HBoxModel",
          "model_module_version": "1.5.0",
          "state": {
            "_dom_classes": [],
            "_model_module": "@jupyter-widgets/controls",
            "_model_module_version": "1.5.0",
            "_model_name": "HBoxModel",
            "_view_count": null,
            "_view_module": "@jupyter-widgets/controls",
            "_view_module_version": "1.5.0",
            "_view_name": "HBoxView",
            "box_style": "",
            "children": [
              "IPY_MODEL_29113df2d34247f1b985fd7bf5740b8e",
              "IPY_MODEL_f2ff789335284f1fb829e40301960045",
              "IPY_MODEL_e5e76ee1081d4955b73ce61703e79e67"
            ],
            "layout": "IPY_MODEL_05ec647ac8fd4a5f97df919c073689d6"
          }
        },
        "29113df2d34247f1b985fd7bf5740b8e": {
          "model_module": "@jupyter-widgets/controls",
          "model_name": "HTMLModel",
          "model_module_version": "1.5.0",
          "state": {
            "_dom_classes": [],
            "_model_module": "@jupyter-widgets/controls",
            "_model_module_version": "1.5.0",
            "_model_name": "HTMLModel",
            "_view_count": null,
            "_view_module": "@jupyter-widgets/controls",
            "_view_module_version": "1.5.0",
            "_view_name": "HTMLView",
            "description": "",
            "description_tooltip": null,
            "layout": "IPY_MODEL_ee26f101b6b94f5d987ca3dbe3d92760",
            "placeholder": "​",
            "style": "IPY_MODEL_8c1d6423cfb24fc99368d5db38bb1519",
            "value": "Dl Completed...: 100%"
          }
        },
        "f2ff789335284f1fb829e40301960045": {
          "model_module": "@jupyter-widgets/controls",
          "model_name": "FloatProgressModel",
          "model_module_version": "1.5.0",
          "state": {
            "_dom_classes": [],
            "_model_module": "@jupyter-widgets/controls",
            "_model_module_version": "1.5.0",
            "_model_name": "FloatProgressModel",
            "_view_count": null,
            "_view_module": "@jupyter-widgets/controls",
            "_view_module_version": "1.5.0",
            "_view_name": "ProgressView",
            "bar_style": "success",
            "description": "",
            "description_tooltip": null,
            "layout": "IPY_MODEL_de6863c279af48b0a890476b9f646560",
            "max": 1069,
            "min": 0,
            "orientation": "horizontal",
            "style": "IPY_MODEL_cb91c010b19c4248ad3eb7f46878ec11",
            "value": 1069
          }
        },
        "e5e76ee1081d4955b73ce61703e79e67": {
          "model_module": "@jupyter-widgets/controls",
          "model_name": "HTMLModel",
          "model_module_version": "1.5.0",
          "state": {
            "_dom_classes": [],
            "_model_module": "@jupyter-widgets/controls",
            "_model_module_version": "1.5.0",
            "_model_name": "HTMLModel",
            "_view_count": null,
            "_view_module": "@jupyter-widgets/controls",
            "_view_module_version": "1.5.0",
            "_view_name": "HTMLView",
            "description": "",
            "description_tooltip": null,
            "layout": "IPY_MODEL_ff200251d921428bbeba1b8618ec64f0",
            "placeholder": "​",
            "style": "IPY_MODEL_6a7b48bc1235467e9639057f05fa64ff",
            "value": " 1069/1069 [04:29&lt;00:00,  2.76 file/s]"
          }
        },
        "05ec647ac8fd4a5f97df919c073689d6": {
          "model_module": "@jupyter-widgets/base",
          "model_name": "LayoutModel",
          "model_module_version": "1.2.0",
          "state": {
            "_model_module": "@jupyter-widgets/base",
            "_model_module_version": "1.2.0",
            "_model_name": "LayoutModel",
            "_view_count": null,
            "_view_module": "@jupyter-widgets/base",
            "_view_module_version": "1.2.0",
            "_view_name": "LayoutView",
            "align_content": null,
            "align_items": null,
            "align_self": null,
            "border": null,
            "bottom": null,
            "display": null,
            "flex": null,
            "flex_flow": null,
            "grid_area": null,
            "grid_auto_columns": null,
            "grid_auto_flow": null,
            "grid_auto_rows": null,
            "grid_column": null,
            "grid_gap": null,
            "grid_row": null,
            "grid_template_areas": null,
            "grid_template_columns": null,
            "grid_template_rows": null,
            "height": null,
            "justify_content": null,
            "justify_items": null,
            "left": null,
            "margin": null,
            "max_height": null,
            "max_width": null,
            "min_height": null,
            "min_width": null,
            "object_fit": null,
            "object_position": null,
            "order": null,
            "overflow": null,
            "overflow_x": null,
            "overflow_y": null,
            "padding": null,
            "right": null,
            "top": null,
            "visibility": null,
            "width": null
          }
        },
        "ee26f101b6b94f5d987ca3dbe3d92760": {
          "model_module": "@jupyter-widgets/base",
          "model_name": "LayoutModel",
          "model_module_version": "1.2.0",
          "state": {
            "_model_module": "@jupyter-widgets/base",
            "_model_module_version": "1.2.0",
            "_model_name": "LayoutModel",
            "_view_count": null,
            "_view_module": "@jupyter-widgets/base",
            "_view_module_version": "1.2.0",
            "_view_name": "LayoutView",
            "align_content": null,
            "align_items": null,
            "align_self": null,
            "border": null,
            "bottom": null,
            "display": null,
            "flex": null,
            "flex_flow": null,
            "grid_area": null,
            "grid_auto_columns": null,
            "grid_auto_flow": null,
            "grid_auto_rows": null,
            "grid_column": null,
            "grid_gap": null,
            "grid_row": null,
            "grid_template_areas": null,
            "grid_template_columns": null,
            "grid_template_rows": null,
            "height": null,
            "justify_content": null,
            "justify_items": null,
            "left": null,
            "margin": null,
            "max_height": null,
            "max_width": null,
            "min_height": null,
            "min_width": null,
            "object_fit": null,
            "object_position": null,
            "order": null,
            "overflow": null,
            "overflow_x": null,
            "overflow_y": null,
            "padding": null,
            "right": null,
            "top": null,
            "visibility": null,
            "width": null
          }
        },
        "8c1d6423cfb24fc99368d5db38bb1519": {
          "model_module": "@jupyter-widgets/controls",
          "model_name": "DescriptionStyleModel",
          "model_module_version": "1.5.0",
          "state": {
            "_model_module": "@jupyter-widgets/controls",
            "_model_module_version": "1.5.0",
            "_model_name": "DescriptionStyleModel",
            "_view_count": null,
            "_view_module": "@jupyter-widgets/base",
            "_view_module_version": "1.2.0",
            "_view_name": "StyleView",
            "description_width": ""
          }
        },
        "de6863c279af48b0a890476b9f646560": {
          "model_module": "@jupyter-widgets/base",
          "model_name": "LayoutModel",
          "model_module_version": "1.2.0",
          "state": {
            "_model_module": "@jupyter-widgets/base",
            "_model_module_version": "1.2.0",
            "_model_name": "LayoutModel",
            "_view_count": null,
            "_view_module": "@jupyter-widgets/base",
            "_view_module_version": "1.2.0",
            "_view_name": "LayoutView",
            "align_content": null,
            "align_items": null,
            "align_self": null,
            "border": null,
            "bottom": null,
            "display": null,
            "flex": null,
            "flex_flow": null,
            "grid_area": null,
            "grid_auto_columns": null,
            "grid_auto_flow": null,
            "grid_auto_rows": null,
            "grid_column": null,
            "grid_gap": null,
            "grid_row": null,
            "grid_template_areas": null,
            "grid_template_columns": null,
            "grid_template_rows": null,
            "height": null,
            "justify_content": null,
            "justify_items": null,
            "left": null,
            "margin": null,
            "max_height": null,
            "max_width": null,
            "min_height": null,
            "min_width": null,
            "object_fit": null,
            "object_position": null,
            "order": null,
            "overflow": null,
            "overflow_x": null,
            "overflow_y": null,
            "padding": null,
            "right": null,
            "top": null,
            "visibility": null,
            "width": null
          }
        },
        "cb91c010b19c4248ad3eb7f46878ec11": {
          "model_module": "@jupyter-widgets/controls",
          "model_name": "ProgressStyleModel",
          "model_module_version": "1.5.0",
          "state": {
            "_model_module": "@jupyter-widgets/controls",
            "_model_module_version": "1.5.0",
            "_model_name": "ProgressStyleModel",
            "_view_count": null,
            "_view_module": "@jupyter-widgets/base",
            "_view_module_version": "1.2.0",
            "_view_name": "StyleView",
            "bar_color": null,
            "description_width": ""
          }
        },
        "ff200251d921428bbeba1b8618ec64f0": {
          "model_module": "@jupyter-widgets/base",
          "model_name": "LayoutModel",
          "model_module_version": "1.2.0",
          "state": {
            "_model_module": "@jupyter-widgets/base",
            "_model_module_version": "1.2.0",
            "_model_name": "LayoutModel",
            "_view_count": null,
            "_view_module": "@jupyter-widgets/base",
            "_view_module_version": "1.2.0",
            "_view_name": "LayoutView",
            "align_content": null,
            "align_items": null,
            "align_self": null,
            "border": null,
            "bottom": null,
            "display": null,
            "flex": null,
            "flex_flow": null,
            "grid_area": null,
            "grid_auto_columns": null,
            "grid_auto_flow": null,
            "grid_auto_rows": null,
            "grid_column": null,
            "grid_gap": null,
            "grid_row": null,
            "grid_template_areas": null,
            "grid_template_columns": null,
            "grid_template_rows": null,
            "height": null,
            "justify_content": null,
            "justify_items": null,
            "left": null,
            "margin": null,
            "max_height": null,
            "max_width": null,
            "min_height": null,
            "min_width": null,
            "object_fit": null,
            "object_position": null,
            "order": null,
            "overflow": null,
            "overflow_x": null,
            "overflow_y": null,
            "padding": null,
            "right": null,
            "top": null,
            "visibility": null,
            "width": null
          }
        },
        "6a7b48bc1235467e9639057f05fa64ff": {
          "model_module": "@jupyter-widgets/controls",
          "model_name": "DescriptionStyleModel",
          "model_module_version": "1.5.0",
          "state": {
            "_model_module": "@jupyter-widgets/controls",
            "_model_module_version": "1.5.0",
            "_model_name": "DescriptionStyleModel",
            "_view_count": null,
            "_view_module": "@jupyter-widgets/base",
            "_view_module_version": "1.2.0",
            "_view_name": "StyleView",
            "description_width": ""
          }
        }
      }
    }
  },
  "nbformat": 4,
  "nbformat_minor": 0
}